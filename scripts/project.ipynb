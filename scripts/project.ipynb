{
 "cells": [
  {
   "cell_type": "markdown",
   "id": "907fb9f9-df45-45e8-bde4-3e6520aaa618",
   "metadata": {},
   "source": [
    "# Project"
   ]
  },
  {
   "cell_type": "markdown",
   "id": "9ea09a54-44be-4054-858e-f5f5046a0d49",
   "metadata": {},
   "source": [
    "\n",
    "## hypotheses\n",
    "there are mostly protein structures in the database and mostly enzymes\n",
    "\n",
    "number of added structures rises exponentaly\n",
    "\n",
    "cryoEM is more and more popular"
   ]
  },
  {
   "cell_type": "code",
   "execution_count": null,
   "id": "93bba105-44f3-40a3-926b-ce44c7dac21f",
   "metadata": {},
   "outputs": [],
   "source": [
    "# importing modules\n",
    "import numpy as np\n",
    "import pandas as pd # dataframes\n",
    "import altair as alt # plotting\n",
    "import biotite.database.rcsb as rcsb # api for rcsb database\n"
   ]
  },
  {
   "cell_type": "code",
   "execution_count": null,
   "id": "03c160b2",
   "metadata": {},
   "outputs": [],
   "source": [
    "# obtaining data from rcsb database through api\n",
    "# number of all structures added before 1990\n",
    "\n",
    "query_old=rcsb.FieldQuery(\"rcsb_accession_info.initial_release_date\", range_closed=('1960-01-01', '1989-12-31'))\n",
    "all_old=rcsb.count(query_old)"
   ]
  },
  {
   "cell_type": "code",
   "execution_count": null,
   "id": "37fe5837",
   "metadata": {},
   "outputs": [],
   "source": [
    "# number of added structures obtained by selected methods and in total from 1990\n",
    "# runs for about a minute\n",
    "\n",
    "years=list(range(1990,2026))\n",
    "methods=[\"X-RAY DIFFRACTION\", \"SOLUTION NMR\", \"ELECTRON MICROSCOPY\"]\n",
    "counted_structures=[]\n",
    "counted_years=[]\n",
    "counted_methods=[]\n",
    "\n",
    "for year in years:\n",
    "    query_year=rcsb.FieldQuery(\"rcsb_accession_info.initial_release_date\", range_closed=(f'{year}-01-01', f'{year}-12-31'))\n",
    "    counted_structures.append(rcsb.count(query_year))\n",
    "    counted_years.append(year)\n",
    "    counted_methods.append(\"all\")\n",
    "    for method in methods:\n",
    "        query_method = rcsb.FieldQuery(\"exptl.method\", exact_match=method)\n",
    "        counted_structures.append(rcsb.count(query_method & query_year))\n",
    "        counted_years.append(year)\n",
    "        counted_methods.append(method)\n",
    "   \n",
    "# saving data to dataframe\n",
    "\n",
    "data_rcsb= pd.DataFrame(\n",
    "    {'experimentalTechnique': counted_methods,\n",
    "     'publicationYear': counted_years,\n",
    "     'countedStructures': counted_structures\n",
    "    })"
   ]
  },
  {
   "cell_type": "code",
   "execution_count": null,
   "id": "ad89a43e",
   "metadata": {},
   "outputs": [],
   "source": [
    "print(all_old)\n",
    "print(data_rcsb.head)\n",
    "print(data_rcsb.shape)"
   ]
  },
  {
   "cell_type": "code",
   "execution_count": null,
   "id": "47f5cc3a",
   "metadata": {},
   "outputs": [],
   "source": [
    "alt.Chart(data_rcsb, title='Number of newly published structures per year in the RCSB PDB').mark_bar(\n",
    "    cornerRadiusTopLeft=3,\n",
    "    cornerRadiusTopRight=3\n",
    ").transform_filter(\n",
    "    alt.datum.experimentalTechnique != 'all'   \n",
    ").encode(\n",
    "    x=alt.X('publicationYear:O').title(\"Publication year\"),\n",
    "    y=alt.Y('countedStructures:Q').title('Number of structures'),\n",
    "    color=alt.Color('experimentalTechnique:N').title('Method')\n",
    ")"
   ]
  },
  {
   "cell_type": "code",
   "execution_count": null,
   "id": "cbdf2072",
   "metadata": {},
   "outputs": [],
   "source": [
    "yearly=alt.Chart(data_rcsb, title='Cumulative number of published structures in the RCSB PDB'\n",
    ").transform_filter(\n",
    "    alt.datum.experimentalTechnique == 'all'\n",
    ").mark_bar(\n",
    "    color='green',\n",
    "    cornerRadiusTopLeft=3,\n",
    "    cornerRadiusTopRight=3   \n",
    ").encode(\n",
    "    x=alt.X('publicationYear:O').title('Publication year'),\n",
    "    y=alt.Y('countedStructures:Q').title('Number of structures')\n",
    ")\n",
    "\n",
    "cumulative=alt.Chart(data_rcsb\n",
    ").transform_filter(\n",
    "    alt.datum.experimentalTechnique == 'all'\n",
    ").transform_window(\n",
    "    sort=[{\"field\": \"publicationYear\"}],\n",
    "    summed='sum(countedStructures)'\n",
    ").transform_calculate(\n",
    "    cumulative_count=alt.datum.summed + all_old\n",
    ").mark_line(\n",
    "    color='red'\n",
    ").encode(\n",
    "    x=alt.X(\"publicationYear:O\"),\n",
    "    y=alt.Y(\"cumulative_count:Q\").stack(False)\n",
    ")\n",
    "alt.layer(yearly,cumulative)"
   ]
  },
  {
   "cell_type": "code",
   "execution_count": null,
   "id": "2b0b775e",
   "metadata": {},
   "outputs": [],
   "source": []
  },
  {
   "cell_type": "code",
   "execution_count": null,
   "id": "513871b8",
   "metadata": {},
   "outputs": [],
   "source": [
    "alt.__version__"
   ]
  },
  {
   "cell_type": "code",
   "execution_count": null,
   "id": "598b417e",
   "metadata": {},
   "outputs": [],
   "source": [
    "# allows Vega-Altair work with big datasets\n",
    "\n",
    "alt.data_transformers.disable_max_rows()"
   ]
  },
  {
   "cell_type": "code",
   "execution_count": null,
   "id": "c9c6a857-a325-431a-9cfc-838c2015e732",
   "metadata": {},
   "outputs": [],
   "source": [
    "# loading data\n",
    "data_seq = pd.read_csv(\"../data/pdb_data_seq.csv\")\n",
    "data = pd.read_csv(\"../data/pdb_data_no_dups.csv\")"
   ]
  },
  {
   "cell_type": "code",
   "execution_count": null,
   "id": "a989487b-2b51-4ed3-a6cb-4cd0b39028e7",
   "metadata": {},
   "outputs": [],
   "source": [
    "data_seq.head(10)"
   ]
  },
  {
   "cell_type": "code",
   "execution_count": null,
   "id": "449db8e1-63de-45d9-bd79-86260eaa5545",
   "metadata": {},
   "outputs": [],
   "source": [
    "data.head(10)"
   ]
  },
  {
   "cell_type": "code",
   "execution_count": null,
   "id": "2dbdaf13-6ede-44a6-825f-8c6816dbf072",
   "metadata": {},
   "outputs": [],
   "source": [
    "print(data_seq.shape)\n",
    "print(data.shape)"
   ]
  },
  {
   "cell_type": "code",
   "execution_count": null,
   "id": "0b180eb4-d07b-4055-8a70-0f7f37780558",
   "metadata": {},
   "outputs": [],
   "source": [
    "# making a dataframe of most common datapoints, e.g., 10 most common categories\n",
    "\n",
    "def top_count (df, column, cuttoff):\n",
    "    return (pd.DataFrame(df[column].value_counts().head(cuttoff)).reset_index())\n",
    "\n",
    "top_class = top_count(data, 'classification', 10)\n",
    "\n",
    "# plotting histograms, in this case for 10 most common categories\n",
    "\n",
    "alt.Chart(top_class).mark_bar().encode(\n",
    "    x=alt.X('classification:N').sort('-y'),\n",
    "    y='count:Q',\n",
    ")"
   ]
  },
  {
   "cell_type": "code",
   "execution_count": null,
   "id": "e0bb7d9c-09f4-4818-acb0-bb9faafbb155",
   "metadata": {},
   "outputs": [],
   "source": [
    "top_type = top_count(data, \"macromoleculeType\", 10)\n",
    "\n",
    "alt.Chart(top_type).mark_bar().encode(\n",
    "    x=alt.X('macromoleculeType:N').sort('-y'),\n",
    "    y='count:Q',\n",
    ")"
   ]
  },
  {
   "cell_type": "code",
   "execution_count": null,
   "id": "286b425b-7a4f-4903-9957-d2fe618bf427",
   "metadata": {},
   "outputs": [],
   "source": [
    "# plotting pie charts\n",
    "# add percentage, join small arcs into one as others\n",
    "# maybe only proteins -> see if most are enzymes\n",
    "# choosing multiple categories with shift key\n",
    "\n",
    "selection = alt.selection_point(fields=['classification'], bind='legend')\n",
    "types=list\n",
    "\n",
    "alt.Chart(data).mark_arc().encode(\n",
    "    theta=alt.Theta(\"count()\"),\n",
    "    color=alt.Color(\"classification:N\", sort=alt.EncodingSortField(field=\"macromoleculeType\", op='count', order='descending')),\n",
    "    order=alt.Order('count()')\n",
    "#).transform_filter(\n",
    "    #selection\n",
    ").add_params(\n",
    "    selection\n",
    ")"
   ]
  },
  {
   "cell_type": "code",
   "execution_count": null,
   "id": "0ccb2142",
   "metadata": {},
   "outputs": [],
   "source": [
    "alt.Chart(data).mark_arc().encode(\n",
    "    theta=alt.Theta(\"count()\"),\n",
    "    color=alt.Color(\"macromoleculeType:N\", sort=alt.EncodingSortField(field=\"macromoleculeType\", op='count', order='descending')\n",
    "                    ,title=('Macromolecule type')),\n",
    "    order=alt.Order('count()')\n",
    ")"
   ]
  },
  {
   "cell_type": "code",
   "execution_count": null,
   "id": "a6d032d0",
   "metadata": {},
   "outputs": [],
   "source": [
    "alt.Chart(data).mark_arc().encode(\n",
    "    theta=alt.Theta(\"count()\"),\n",
    "    color=alt.Color(\"experimentalTechnique:N\", sort=alt.EncodingSortField(field=\"experimentalTechnique\", op='count', order='descending')\n",
    "                    ,title=('Experimental technique')),\n",
    "    order=alt.Order('count()')\n",
    ")"
   ]
  },
  {
   "cell_type": "code",
   "execution_count": null,
   "id": "6849b999-ee4b-412c-9ebd-4d166fb88ba0",
   "metadata": {},
   "outputs": [],
   "source": [
    "# number of structures over time, by type, type of methods\n",
    "# includes only structures with known publication year\n",
    "\n",
    "data_year_fix=data.replace({'publicationYear':201}, 2014).dropna(subset=['publicationYear'])\n",
    "\n",
    "alt.Chart(data_year_fix, title='Published structures per year').transform_window(\n",
    "    cumulative_count=\"count()\",\n",
    "    sort=[{\"field\": \"publicationYear\"}],\n",
    ").mark_area().encode(\n",
    "    x=alt.X(\"publicationYear:O\").title('Publication year'),\n",
    "    y=alt.Y(\"cumulative_count:Q\").stack(False).title('Cumulative number')\n",
    ").transform_filter(\n",
    "    alt.datum.publicationYear > 1990\n",
    ")"
   ]
  },
  {
   "cell_type": "code",
   "execution_count": null,
   "id": "a82fc5b3",
   "metadata": {},
   "outputs": [],
   "source": [
    "alt.Chart(data_year_fix, title='Published structures per year').mark_bar(\n",
    "    cornerRadiusTopLeft=3,\n",
    "    cornerRadiusTopRight=3\n",
    ").encode(\n",
    "    x='publicationYear:O',\n",
    "    y='count():Q',\n",
    "    color=alt.Color('experimentalTechnique:N', sort=alt.EncodingSortField(field=\"experimentalTechnique\", op='count', order='descending')),\n",
    "#).transform_filter(\n",
    "#    alt.datum.experimentalTechnique != 'X-RAY DIFFRACTION'\n",
    ").transform_filter(\n",
    "    alt.datum.publicationYear > 1990\n",
    ")"
   ]
  },
  {
   "cell_type": "code",
   "execution_count": null,
   "id": "ac25be47",
   "metadata": {},
   "outputs": [],
   "source": [
    "print(data_year_fix['publicationYear'].sort_values().unique())\n",
    "print(data_year_fix['publicationYear'].value_counts())\n"
   ]
  },
  {
   "cell_type": "code",
   "execution_count": null,
   "id": "03abe42c",
   "metadata": {},
   "outputs": [],
   "source": []
  }
 ],
 "metadata": {
  "kernelspec": {
   "display_name": "base",
   "language": "python",
   "name": "python3"
  },
  "language_info": {
   "codemirror_mode": {
    "name": "ipython",
    "version": 3
   },
   "file_extension": ".py",
   "mimetype": "text/x-python",
   "name": "python",
   "nbconvert_exporter": "python",
   "pygments_lexer": "ipython3",
   "version": "3.12.7"
  }
 },
 "nbformat": 4,
 "nbformat_minor": 5
}
