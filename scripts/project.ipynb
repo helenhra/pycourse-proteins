{
 "cells": [
  {
   "cell_type": "markdown",
   "id": "907fb9f9-df45-45e8-bde4-3e6520aaa618",
   "metadata": {},
   "source": [
    "# Protein structures"
   ]
  },
  {
   "cell_type": "markdown",
   "id": "19de2791",
   "metadata": {},
   "source": [
    "## Introduction\n",
    "protein structures are stored in RCSB PDB (Research Collaboratory for Structural Bioinformatics Protein Data Bank)\n",
    "\n",
    "there are other structures too, not just proteins"
   ]
  },
  {
   "cell_type": "markdown",
   "id": "9ea09a54-44be-4054-858e-f5f5046a0d49",
   "metadata": {},
   "source": [
    "\n",
    "### Hypotheses\n",
    "\n",
    "1) number of added structures rises exponentaly\n",
    "2) electron microscopy is getting more popular\n",
    "3) there are mostly protein structures in the database\n",
    "4) most of the protein structures are enzymes\n",
    "\n",
    "types of proteins, types of organisms"
   ]
  },
  {
   "cell_type": "code",
   "execution_count": 1,
   "id": "93bba105-44f3-40a3-926b-ce44c7dac21f",
   "metadata": {},
   "outputs": [],
   "source": [
    "# importing modules\n",
    "import pandas as pd # dataframes\n",
    "import altair as alt # plotting, Vega-Altair version 5.5.0 was used\n",
    "import biotite.database.rcsb as rcsb # api for rcsb database\n"
   ]
  },
  {
   "cell_type": "markdown",
   "id": "1fd39718",
   "metadata": {},
   "source": [
    "## API - RCSB PDB"
   ]
  },
  {
   "cell_type": "code",
   "execution_count": 13,
   "id": "57bde204",
   "metadata": {},
   "outputs": [],
   "source": [
    "# obtaining data from rcsb pdb through api and saving it into dataframe\n",
    "# searching by e.g, different experimental methods, structure types\n",
    "# requires list of years, attribute and list of values to search for, name of column in the dataframe for attribute\n",
    "# possible attributes and values can be found at https://search.rcsb.org/structure-search-attributes.html\n",
    "# returns a dataset with numbers of structures per year for selected data type\n",
    "\n",
    "def get_data (years:list, attribute:str, values:list, column_name:str):\n",
    "    counted_structures=[]\n",
    "    counted_years=[]\n",
    "    counted_values=[]\n",
    "    for year in years:\n",
    "        query_year=rcsb.FieldQuery(\"rcsb_accession_info.initial_release_date\", range_closed=(f'{year}-01-01', f'{year}-12-31'))\n",
    "        for value in values:\n",
    "            query_attribute = rcsb.FieldQuery(attribute, exact_match=value)\n",
    "            counted_structures.append(rcsb.count(query_attribute & query_year))\n",
    "            counted_years.append(year)\n",
    "            counted_values.append(value)\n",
    "    return pd.DataFrame(\n",
    "        {column_name: counted_values,\n",
    "         'publicationYear': counted_years,\n",
    "         'countedStructures': counted_structures\n",
    "        })"
   ]
  },
  {
   "cell_type": "markdown",
   "id": "cbb4dac1",
   "metadata": {},
   "source": [
    "### 1) Number of all structures\n",
    "number of added structures rises exponentaly"
   ]
  },
  {
   "cell_type": "code",
   "execution_count": 3,
   "id": "365b110a",
   "metadata": {},
   "outputs": [],
   "source": [
    "# number of all structures added before 1990\n",
    "# obtaining data from rcsb pdb through api\n",
    "\n",
    "query_old=rcsb.FieldQuery(\"rcsb_accession_info.initial_release_date\", range_closed=('1960-01-01', '1989-12-31'))\n",
    "all_old=rcsb.count(query_old)"
   ]
  },
  {
   "cell_type": "code",
   "execution_count": 4,
   "id": "8cb9fdfa",
   "metadata": {},
   "outputs": [],
   "source": [
    "# number of all added structures from 1990 per year\n",
    "\n",
    "years=list(range(1990,2026))\n",
    "counted_years_all=[]\n",
    "counted_structures_all=[]\n",
    "\n",
    "# obtaining data from rcsb pdb through api\n",
    "\n",
    "for year in years:\n",
    "    query_year_all=rcsb.FieldQuery(\"rcsb_accession_info.initial_release_date\", range_closed=(f'{year}-01-01', f'{year}-12-31'))\n",
    "    counted_structures_all.append(rcsb.count(query_year_all))\n",
    "    counted_years_all.append(year)\n",
    "\n",
    "# saving data to dataframe\n",
    "\n",
    "data_rcsb_all= pd.DataFrame(\n",
    "    {'publicationYear': counted_years_all,\n",
    "     'countedStructures': counted_structures_all\n",
    "    })"
   ]
  },
  {
   "cell_type": "code",
   "execution_count": 5,
   "id": "fff5660f",
   "metadata": {},
   "outputs": [],
   "source": [
    "# plotting cumulative number of all added structures\n",
    "\n",
    "cumulative=alt.Chart(data_rcsb_all, title='Cumulative number of published structures in the RCSB PDB'\n",
    ").transform_window(\n",
    "    sort=[{\"field\": \"publicationYear\"}],\n",
    "    summed='sum(countedStructures)'\n",
    ").transform_calculate(\n",
    "    cumulative_count=alt.datum.summed + all_old\n",
    ").mark_line(\n",
    "    color='black'\n",
    ").encode(\n",
    "    x=alt.X(\"publicationYear:O\").title('Publication year'),\n",
    "    y=alt.Y(\"cumulative_count:Q\").stack(False).title('Cumulative number of structures')\n",
    ")"
   ]
  },
  {
   "cell_type": "code",
   "execution_count": 6,
   "id": "276ae6d6",
   "metadata": {},
   "outputs": [
    {
     "data": {
      "text/html": [
       "\n",
       "<style>\n",
       "  #altair-viz-4b151c4584a342458aa69a95597369e3.vega-embed {\n",
       "    width: 100%;\n",
       "    display: flex;\n",
       "  }\n",
       "\n",
       "  #altair-viz-4b151c4584a342458aa69a95597369e3.vega-embed details,\n",
       "  #altair-viz-4b151c4584a342458aa69a95597369e3.vega-embed details summary {\n",
       "    position: relative;\n",
       "  }\n",
       "</style>\n",
       "<div id=\"altair-viz-4b151c4584a342458aa69a95597369e3\"></div>\n",
       "<script type=\"text/javascript\">\n",
       "  var VEGA_DEBUG = (typeof VEGA_DEBUG == \"undefined\") ? {} : VEGA_DEBUG;\n",
       "  (function(spec, embedOpt){\n",
       "    let outputDiv = document.currentScript.previousElementSibling;\n",
       "    if (outputDiv.id !== \"altair-viz-4b151c4584a342458aa69a95597369e3\") {\n",
       "      outputDiv = document.getElementById(\"altair-viz-4b151c4584a342458aa69a95597369e3\");\n",
       "    }\n",
       "\n",
       "    const paths = {\n",
       "      \"vega\": \"https://cdn.jsdelivr.net/npm/vega@5?noext\",\n",
       "      \"vega-lib\": \"https://cdn.jsdelivr.net/npm/vega-lib?noext\",\n",
       "      \"vega-lite\": \"https://cdn.jsdelivr.net/npm/vega-lite@5.20.1?noext\",\n",
       "      \"vega-embed\": \"https://cdn.jsdelivr.net/npm/vega-embed@6?noext\",\n",
       "    };\n",
       "\n",
       "    function maybeLoadScript(lib, version) {\n",
       "      var key = `${lib.replace(\"-\", \"\")}_version`;\n",
       "      return (VEGA_DEBUG[key] == version) ?\n",
       "        Promise.resolve(paths[lib]) :\n",
       "        new Promise(function(resolve, reject) {\n",
       "          var s = document.createElement('script');\n",
       "          document.getElementsByTagName(\"head\")[0].appendChild(s);\n",
       "          s.async = true;\n",
       "          s.onload = () => {\n",
       "            VEGA_DEBUG[key] = version;\n",
       "            return resolve(paths[lib]);\n",
       "          };\n",
       "          s.onerror = () => reject(`Error loading script: ${paths[lib]}`);\n",
       "          s.src = paths[lib];\n",
       "        });\n",
       "    }\n",
       "\n",
       "    function showError(err) {\n",
       "      outputDiv.innerHTML = `<div class=\"error\" style=\"color:red;\">${err}</div>`;\n",
       "      throw err;\n",
       "    }\n",
       "\n",
       "    function displayChart(vegaEmbed) {\n",
       "      vegaEmbed(outputDiv, spec, embedOpt)\n",
       "        .catch(err => showError(`Javascript Error: ${err.message}<br>This usually means there's a typo in your chart specification. See the javascript console for the full traceback.`));\n",
       "    }\n",
       "\n",
       "    if(typeof define === \"function\" && define.amd) {\n",
       "      requirejs.config({paths});\n",
       "      let deps = [\"vega-embed\"];\n",
       "      require(deps, displayChart, err => showError(`Error loading script: ${err.message}`));\n",
       "    } else {\n",
       "      maybeLoadScript(\"vega\", \"5\")\n",
       "        .then(() => maybeLoadScript(\"vega-lite\", \"5.20.1\"))\n",
       "        .then(() => maybeLoadScript(\"vega-embed\", \"6\"))\n",
       "        .catch(showError)\n",
       "        .then(() => displayChart(vegaEmbed));\n",
       "    }\n",
       "  })({\"config\": {\"view\": {\"continuousWidth\": 300, \"continuousHeight\": 300}}, \"data\": {\"name\": \"data-ad59cb3ad4a7888678c11713bef514e2\"}, \"mark\": {\"type\": \"line\", \"color\": \"black\"}, \"encoding\": {\"x\": {\"field\": \"publicationYear\", \"title\": \"Publication year\", \"type\": \"ordinal\"}, \"y\": {\"field\": \"cumulative_count\", \"stack\": false, \"title\": \"Cumulative number of structures\", \"type\": \"quantitative\"}}, \"title\": \"Cumulative number of published structures in the RCSB PDB\", \"transform\": [{\"window\": [{\"op\": \"sum\", \"field\": \"countedStructures\", \"as\": \"summed\"}], \"sort\": [{\"field\": \"publicationYear\"}]}, {\"calculate\": \"(datum.summed + 365)\", \"as\": \"cumulative_count\"}], \"$schema\": \"https://vega.github.io/schema/vega-lite/v5.20.1.json\", \"datasets\": {\"data-ad59cb3ad4a7888678c11713bef514e2\": [{\"publicationYear\": 1990, \"countedStructures\": 142}, {\"publicationYear\": 1991, \"countedStructures\": 187}, {\"publicationYear\": 1992, \"countedStructures\": 192}, {\"publicationYear\": 1993, \"countedStructures\": 696}, {\"publicationYear\": 1994, \"countedStructures\": 1289}, {\"publicationYear\": 1995, \"countedStructures\": 941}, {\"publicationYear\": 1996, \"countedStructures\": 1172}, {\"publicationYear\": 1997, \"countedStructures\": 1564}, {\"publicationYear\": 1998, \"countedStructures\": 2055}, {\"publicationYear\": 1999, \"countedStructures\": 2356}, {\"publicationYear\": 2000, \"countedStructures\": 2624}, {\"publicationYear\": 2001, \"countedStructures\": 2811}, {\"publicationYear\": 2002, \"countedStructures\": 2994}, {\"publicationYear\": 2003, \"countedStructures\": 4145}, {\"publicationYear\": 2004, \"countedStructures\": 5149}, {\"publicationYear\": 2005, \"countedStructures\": 5334}, {\"publicationYear\": 2006, \"countedStructures\": 6405}, {\"publicationYear\": 2007, \"countedStructures\": 7134}, {\"publicationYear\": 2008, \"countedStructures\": 6903}, {\"publicationYear\": 2009, \"countedStructures\": 7288}, {\"publicationYear\": 2010, \"countedStructures\": 7743}, {\"publicationYear\": 2011, \"countedStructures\": 7925}, {\"publicationYear\": 2012, \"countedStructures\": 8751}, {\"publicationYear\": 2013, \"countedStructures\": 9338}, {\"publicationYear\": 2014, \"countedStructures\": 9554}, {\"publicationYear\": 2015, \"countedStructures\": 9244}, {\"publicationYear\": 2016, \"countedStructures\": 10803}, {\"publicationYear\": 2017, \"countedStructures\": 11059}, {\"publicationYear\": 2018, \"countedStructures\": 11155}, {\"publicationYear\": 2019, \"countedStructures\": 11471}, {\"publicationYear\": 2020, \"countedStructures\": 13985}, {\"publicationYear\": 2021, \"countedStructures\": 12569}, {\"publicationYear\": 2022, \"countedStructures\": 14255}, {\"publicationYear\": 2023, \"countedStructures\": 14452}, {\"publicationYear\": 2024, \"countedStructures\": 15313}, {\"publicationYear\": 2025, \"countedStructures\": 3466}]}}, {\"mode\": \"vega-lite\"});\n",
       "</script>"
      ],
      "text/plain": [
       "alt.Chart(...)"
      ]
     },
     "execution_count": 6,
     "metadata": {},
     "output_type": "execute_result"
    }
   ],
   "source": [
    "# showing plot\n",
    "cumulative"
   ]
  },
  {
   "cell_type": "markdown",
   "id": "847e5be1",
   "metadata": {},
   "source": [
    "### 2) Experimental metods\n",
    "electron microscopy is getting more popular"
   ]
  },
  {
   "cell_type": "code",
   "execution_count": null,
   "id": "8c602815",
   "metadata": {},
   "outputs": [],
   "source": [
    "# number of added structures obtained by selected methods from 1990 per year\n",
    "# runs for about a minute\n",
    "\n",
    "methods=[\"X-RAY DIFFRACTION\", \"SOLUTION NMR\", \"ELECTRON MICROSCOPY\"]\n",
    "data_rcsb_method=get_data(years, 'experimentalTechnique', methods, \"exptl.method\")"
   ]
  },
  {
   "cell_type": "code",
   "execution_count": 9,
   "id": "cbdf2072",
   "metadata": {},
   "outputs": [],
   "source": [
    "yearly_method=alt.Chart(data_rcsb_method, title='Number of published structures per year by experimental method'\n",
    ").mark_bar(\n",
    "    cornerRadiusTopLeft=3,\n",
    "    cornerRadiusTopRight=3   \n",
    ").encode(\n",
    "    x=alt.X('publicationYear:O').title('Publication year'),\n",
    "    y=alt.Y('countedStructures:Q').title('Number of structures'),\n",
    "    color=alt.Color('experimentalTechnique:N').title('Method')\n",
    ")"
   ]
  },
  {
   "cell_type": "code",
   "execution_count": 10,
   "id": "d168d5c8",
   "metadata": {},
   "outputs": [
    {
     "data": {
      "text/html": [
       "\n",
       "<style>\n",
       "  #altair-viz-9928efdedd2a4ca48a318efc20357ab9.vega-embed {\n",
       "    width: 100%;\n",
       "    display: flex;\n",
       "  }\n",
       "\n",
       "  #altair-viz-9928efdedd2a4ca48a318efc20357ab9.vega-embed details,\n",
       "  #altair-viz-9928efdedd2a4ca48a318efc20357ab9.vega-embed details summary {\n",
       "    position: relative;\n",
       "  }\n",
       "</style>\n",
       "<div id=\"altair-viz-9928efdedd2a4ca48a318efc20357ab9\"></div>\n",
       "<script type=\"text/javascript\">\n",
       "  var VEGA_DEBUG = (typeof VEGA_DEBUG == \"undefined\") ? {} : VEGA_DEBUG;\n",
       "  (function(spec, embedOpt){\n",
       "    let outputDiv = document.currentScript.previousElementSibling;\n",
       "    if (outputDiv.id !== \"altair-viz-9928efdedd2a4ca48a318efc20357ab9\") {\n",
       "      outputDiv = document.getElementById(\"altair-viz-9928efdedd2a4ca48a318efc20357ab9\");\n",
       "    }\n",
       "\n",
       "    const paths = {\n",
       "      \"vega\": \"https://cdn.jsdelivr.net/npm/vega@5?noext\",\n",
       "      \"vega-lib\": \"https://cdn.jsdelivr.net/npm/vega-lib?noext\",\n",
       "      \"vega-lite\": \"https://cdn.jsdelivr.net/npm/vega-lite@5.20.1?noext\",\n",
       "      \"vega-embed\": \"https://cdn.jsdelivr.net/npm/vega-embed@6?noext\",\n",
       "    };\n",
       "\n",
       "    function maybeLoadScript(lib, version) {\n",
       "      var key = `${lib.replace(\"-\", \"\")}_version`;\n",
       "      return (VEGA_DEBUG[key] == version) ?\n",
       "        Promise.resolve(paths[lib]) :\n",
       "        new Promise(function(resolve, reject) {\n",
       "          var s = document.createElement('script');\n",
       "          document.getElementsByTagName(\"head\")[0].appendChild(s);\n",
       "          s.async = true;\n",
       "          s.onload = () => {\n",
       "            VEGA_DEBUG[key] = version;\n",
       "            return resolve(paths[lib]);\n",
       "          };\n",
       "          s.onerror = () => reject(`Error loading script: ${paths[lib]}`);\n",
       "          s.src = paths[lib];\n",
       "        });\n",
       "    }\n",
       "\n",
       "    function showError(err) {\n",
       "      outputDiv.innerHTML = `<div class=\"error\" style=\"color:red;\">${err}</div>`;\n",
       "      throw err;\n",
       "    }\n",
       "\n",
       "    function displayChart(vegaEmbed) {\n",
       "      vegaEmbed(outputDiv, spec, embedOpt)\n",
       "        .catch(err => showError(`Javascript Error: ${err.message}<br>This usually means there's a typo in your chart specification. See the javascript console for the full traceback.`));\n",
       "    }\n",
       "\n",
       "    if(typeof define === \"function\" && define.amd) {\n",
       "      requirejs.config({paths});\n",
       "      let deps = [\"vega-embed\"];\n",
       "      require(deps, displayChart, err => showError(`Error loading script: ${err.message}`));\n",
       "    } else {\n",
       "      maybeLoadScript(\"vega\", \"5\")\n",
       "        .then(() => maybeLoadScript(\"vega-lite\", \"5.20.1\"))\n",
       "        .then(() => maybeLoadScript(\"vega-embed\", \"6\"))\n",
       "        .catch(showError)\n",
       "        .then(() => displayChart(vegaEmbed));\n",
       "    }\n",
       "  })({\"config\": {\"view\": {\"continuousWidth\": 300, \"continuousHeight\": 300}}, \"data\": {\"name\": \"data-5932599cdd5edf7e6162d83a4c3eb198\"}, \"mark\": {\"type\": \"bar\", \"cornerRadiusTopLeft\": 3, \"cornerRadiusTopRight\": 3}, \"encoding\": {\"color\": {\"field\": \"experimentalTechnique\", \"title\": \"Method\", \"type\": \"nominal\"}, \"x\": {\"field\": \"publicationYear\", \"title\": \"Publication year\", \"type\": \"ordinal\"}, \"y\": {\"field\": \"countedStructures\", \"title\": \"Number of structures\", \"type\": \"quantitative\"}}, \"title\": \"Number of published structures per year by experimental method\", \"$schema\": \"https://vega.github.io/schema/vega-lite/v5.20.1.json\", \"datasets\": {\"data-5932599cdd5edf7e6162d83a4c3eb198\": [{\"experimentalTechnique\": \"X-RAY DIFFRACTION\", \"publicationYear\": 1990, \"countedStructures\": 135}, {\"experimentalTechnique\": \"SOLUTION NMR\", \"publicationYear\": 1990, \"countedStructures\": 7}, {\"experimentalTechnique\": \"ELECTRON MICROSCOPY\", \"publicationYear\": 1990, \"countedStructures\": 0}, {\"experimentalTechnique\": \"X-RAY DIFFRACTION\", \"publicationYear\": 1991, \"countedStructures\": 162}, {\"experimentalTechnique\": \"SOLUTION NMR\", \"publicationYear\": 1991, \"countedStructures\": 23}, {\"experimentalTechnique\": \"ELECTRON MICROSCOPY\", \"publicationYear\": 1991, \"countedStructures\": 0}, {\"experimentalTechnique\": \"X-RAY DIFFRACTION\", \"publicationYear\": 1992, \"countedStructures\": 181}, {\"experimentalTechnique\": \"SOLUTION NMR\", \"publicationYear\": 1992, \"countedStructures\": 11}, {\"experimentalTechnique\": \"ELECTRON MICROSCOPY\", \"publicationYear\": 1992, \"countedStructures\": 0}, {\"experimentalTechnique\": \"X-RAY DIFFRACTION\", \"publicationYear\": 1993, \"countedStructures\": 622}, {\"experimentalTechnique\": \"SOLUTION NMR\", \"publicationYear\": 1993, \"countedStructures\": 74}, {\"experimentalTechnique\": \"ELECTRON MICROSCOPY\", \"publicationYear\": 1993, \"countedStructures\": 0}, {\"experimentalTechnique\": \"X-RAY DIFFRACTION\", \"publicationYear\": 1994, \"countedStructures\": 1057}, {\"experimentalTechnique\": \"SOLUTION NMR\", \"publicationYear\": 1994, \"countedStructures\": 222}, {\"experimentalTechnique\": \"ELECTRON MICROSCOPY\", \"publicationYear\": 1994, \"countedStructures\": 0}, {\"experimentalTechnique\": \"X-RAY DIFFRACTION\", \"publicationYear\": 1995, \"countedStructures\": 748}, {\"experimentalTechnique\": \"SOLUTION NMR\", \"publicationYear\": 1995, \"countedStructures\": 190}, {\"experimentalTechnique\": \"ELECTRON MICROSCOPY\", \"publicationYear\": 1995, \"countedStructures\": 0}, {\"experimentalTechnique\": \"X-RAY DIFFRACTION\", \"publicationYear\": 1996, \"countedStructures\": 980}, {\"experimentalTechnique\": \"SOLUTION NMR\", \"publicationYear\": 1996, \"countedStructures\": 188}, {\"experimentalTechnique\": \"ELECTRON MICROSCOPY\", \"publicationYear\": 1996, \"countedStructures\": 0}, {\"experimentalTechnique\": \"X-RAY DIFFRACTION\", \"publicationYear\": 1997, \"countedStructures\": 1233}, {\"experimentalTechnique\": \"SOLUTION NMR\", \"publicationYear\": 1997, \"countedStructures\": 328}, {\"experimentalTechnique\": \"ELECTRON MICROSCOPY\", \"publicationYear\": 1997, \"countedStructures\": 1}, {\"experimentalTechnique\": \"X-RAY DIFFRACTION\", \"publicationYear\": 1998, \"countedStructures\": 1721}, {\"experimentalTechnique\": \"SOLUTION NMR\", \"publicationYear\": 1998, \"countedStructures\": 331}, {\"experimentalTechnique\": \"ELECTRON MICROSCOPY\", \"publicationYear\": 1998, \"countedStructures\": 0}, {\"experimentalTechnique\": \"X-RAY DIFFRACTION\", \"publicationYear\": 1999, \"countedStructures\": 1960}, {\"experimentalTechnique\": \"SOLUTION NMR\", \"publicationYear\": 1999, \"countedStructures\": 389}, {\"experimentalTechnique\": \"ELECTRON MICROSCOPY\", \"publicationYear\": 1999, \"countedStructures\": 1}, {\"experimentalTechnique\": \"X-RAY DIFFRACTION\", \"publicationYear\": 2000, \"countedStructures\": 2231}, {\"experimentalTechnique\": \"SOLUTION NMR\", \"publicationYear\": 2000, \"countedStructures\": 370}, {\"experimentalTechnique\": \"ELECTRON MICROSCOPY\", \"publicationYear\": 2000, \"countedStructures\": 11}, {\"experimentalTechnique\": \"X-RAY DIFFRACTION\", \"publicationYear\": 2001, \"countedStructures\": 2376}, {\"experimentalTechnique\": \"SOLUTION NMR\", \"publicationYear\": 2001, \"countedStructures\": 413}, {\"experimentalTechnique\": \"ELECTRON MICROSCOPY\", \"publicationYear\": 2001, \"countedStructures\": 9}, {\"experimentalTechnique\": \"X-RAY DIFFRACTION\", \"publicationYear\": 2002, \"countedStructures\": 2525}, {\"experimentalTechnique\": \"SOLUTION NMR\", \"publicationYear\": 2002, \"countedStructures\": 438}, {\"experimentalTechnique\": \"ELECTRON MICROSCOPY\", \"publicationYear\": 2002, \"countedStructures\": 24}, {\"experimentalTechnique\": \"X-RAY DIFFRACTION\", \"publicationYear\": 2003, \"countedStructures\": 3584}, {\"experimentalTechnique\": \"SOLUTION NMR\", \"publicationYear\": 2003, \"countedStructures\": 524}, {\"experimentalTechnique\": \"ELECTRON MICROSCOPY\", \"publicationYear\": 2003, \"countedStructures\": 29}, {\"experimentalTechnique\": \"X-RAY DIFFRACTION\", \"publicationYear\": 2004, \"countedStructures\": 4394}, {\"experimentalTechnique\": \"SOLUTION NMR\", \"publicationYear\": 2004, \"countedStructures\": 727}, {\"experimentalTechnique\": \"ELECTRON MICROSCOPY\", \"publicationYear\": 2004, \"countedStructures\": 12}, {\"experimentalTechnique\": \"X-RAY DIFFRACTION\", \"publicationYear\": 2005, \"countedStructures\": 4426}, {\"experimentalTechnique\": \"SOLUTION NMR\", \"publicationYear\": 2005, \"countedStructures\": 871}, {\"experimentalTechnique\": \"ELECTRON MICROSCOPY\", \"publicationYear\": 2005, \"countedStructures\": 23}, {\"experimentalTechnique\": \"X-RAY DIFFRACTION\", \"publicationYear\": 2006, \"countedStructures\": 5506}, {\"experimentalTechnique\": \"SOLUTION NMR\", \"publicationYear\": 2006, \"countedStructures\": 857}, {\"experimentalTechnique\": \"ELECTRON MICROSCOPY\", \"publicationYear\": 2006, \"countedStructures\": 26}, {\"experimentalTechnique\": \"X-RAY DIFFRACTION\", \"publicationYear\": 2007, \"countedStructures\": 6141}, {\"experimentalTechnique\": \"SOLUTION NMR\", \"publicationYear\": 2007, \"countedStructures\": 962}, {\"experimentalTechnique\": \"ELECTRON MICROSCOPY\", \"publicationYear\": 2007, \"countedStructures\": 19}, {\"experimentalTechnique\": \"X-RAY DIFFRACTION\", \"publicationYear\": 2008, \"countedStructures\": 6198}, {\"experimentalTechnique\": \"SOLUTION NMR\", \"publicationYear\": 2008, \"countedStructures\": 647}, {\"experimentalTechnique\": \"ELECTRON MICROSCOPY\", \"publicationYear\": 2008, \"countedStructures\": 41}, {\"experimentalTechnique\": \"X-RAY DIFFRACTION\", \"publicationYear\": 2009, \"countedStructures\": 6662}, {\"experimentalTechnique\": \"SOLUTION NMR\", \"publicationYear\": 2009, \"countedStructures\": 564}, {\"experimentalTechnique\": \"ELECTRON MICROSCOPY\", \"publicationYear\": 2009, \"countedStructures\": 40}, {\"experimentalTechnique\": \"X-RAY DIFFRACTION\", \"publicationYear\": 2010, \"countedStructures\": 7163}, {\"experimentalTechnique\": \"SOLUTION NMR\", \"publicationYear\": 2010, \"countedStructures\": 510}, {\"experimentalTechnique\": \"ELECTRON MICROSCOPY\", \"publicationYear\": 2010, \"countedStructures\": 53}, {\"experimentalTechnique\": \"X-RAY DIFFRACTION\", \"publicationYear\": 2011, \"countedStructures\": 7342}, {\"experimentalTechnique\": \"SOLUTION NMR\", \"publicationYear\": 2011, \"countedStructures\": 515}, {\"experimentalTechnique\": \"ELECTRON MICROSCOPY\", \"publicationYear\": 2011, \"countedStructures\": 53}, {\"experimentalTechnique\": \"X-RAY DIFFRACTION\", \"publicationYear\": 2012, \"countedStructures\": 8144}, {\"experimentalTechnique\": \"SOLUTION NMR\", \"publicationYear\": 2012, \"countedStructures\": 529}, {\"experimentalTechnique\": \"ELECTRON MICROSCOPY\", \"publicationYear\": 2012, \"countedStructures\": 65}, {\"experimentalTechnique\": \"X-RAY DIFFRACTION\", \"publicationYear\": 2013, \"countedStructures\": 8709}, {\"experimentalTechnique\": \"SOLUTION NMR\", \"publicationYear\": 2013, \"countedStructures\": 494}, {\"experimentalTechnique\": \"ELECTRON MICROSCOPY\", \"publicationYear\": 2013, \"countedStructures\": 118}, {\"experimentalTechnique\": \"X-RAY DIFFRACTION\", \"publicationYear\": 2014, \"countedStructures\": 8810}, {\"experimentalTechnique\": \"SOLUTION NMR\", \"publicationYear\": 2014, \"countedStructures\": 543}, {\"experimentalTechnique\": \"ELECTRON MICROSCOPY\", \"publicationYear\": 2014, \"countedStructures\": 186}, {\"experimentalTechnique\": \"X-RAY DIFFRACTION\", \"publicationYear\": 2015, \"countedStructures\": 8591}, {\"experimentalTechnique\": \"SOLUTION NMR\", \"publicationYear\": 2015, \"countedStructures\": 419}, {\"experimentalTechnique\": \"ELECTRON MICROSCOPY\", \"publicationYear\": 2015, \"countedStructures\": 213}, {\"experimentalTechnique\": \"X-RAY DIFFRACTION\", \"publicationYear\": 2016, \"countedStructures\": 9934}, {\"experimentalTechnique\": \"SOLUTION NMR\", \"publicationYear\": 2016, \"countedStructures\": 446}, {\"experimentalTechnique\": \"ELECTRON MICROSCOPY\", \"publicationYear\": 2016, \"countedStructures\": 406}, {\"experimentalTechnique\": \"X-RAY DIFFRACTION\", \"publicationYear\": 2017, \"countedStructures\": 10077}, {\"experimentalTechnique\": \"SOLUTION NMR\", \"publicationYear\": 2017, \"countedStructures\": 407}, {\"experimentalTechnique\": \"ELECTRON MICROSCOPY\", \"publicationYear\": 2017, \"countedStructures\": 550}, {\"experimentalTechnique\": \"X-RAY DIFFRACTION\", \"publicationYear\": 2018, \"countedStructures\": 9870}, {\"experimentalTechnique\": \"SOLUTION NMR\", \"publicationYear\": 2018, \"countedStructures\": 389}, {\"experimentalTechnique\": \"ELECTRON MICROSCOPY\", \"publicationYear\": 2018, \"countedStructures\": 844}, {\"experimentalTechnique\": \"X-RAY DIFFRACTION\", \"publicationYear\": 2019, \"countedStructures\": 9633}, {\"experimentalTechnique\": \"SOLUTION NMR\", \"publicationYear\": 2019, \"countedStructures\": 379}, {\"experimentalTechnique\": \"ELECTRON MICROSCOPY\", \"publicationYear\": 2019, \"countedStructures\": 1421}, {\"experimentalTechnique\": \"X-RAY DIFFRACTION\", \"publicationYear\": 2020, \"countedStructures\": 11211}, {\"experimentalTechnique\": \"SOLUTION NMR\", \"publicationYear\": 2020, \"countedStructures\": 368}, {\"experimentalTechnique\": \"ELECTRON MICROSCOPY\", \"publicationYear\": 2020, \"countedStructures\": 2363}, {\"experimentalTechnique\": \"X-RAY DIFFRACTION\", \"publicationYear\": 2021, \"countedStructures\": 9251}, {\"experimentalTechnique\": \"SOLUTION NMR\", \"publicationYear\": 2021, \"countedStructures\": 361}, {\"experimentalTechnique\": \"ELECTRON MICROSCOPY\", \"publicationYear\": 2021, \"countedStructures\": 2947}, {\"experimentalTechnique\": \"X-RAY DIFFRACTION\", \"publicationYear\": 2022, \"countedStructures\": 9841}, {\"experimentalTechnique\": \"SOLUTION NMR\", \"publicationYear\": 2022, \"countedStructures\": 296}, {\"experimentalTechnique\": \"ELECTRON MICROSCOPY\", \"publicationYear\": 2022, \"countedStructures\": 4058}, {\"experimentalTechnique\": \"X-RAY DIFFRACTION\", \"publicationYear\": 2023, \"countedStructures\": 9600}, {\"experimentalTechnique\": \"SOLUTION NMR\", \"publicationYear\": 2023, \"countedStructures\": 255}, {\"experimentalTechnique\": \"ELECTRON MICROSCOPY\", \"publicationYear\": 2023, \"countedStructures\": 4562}, {\"experimentalTechnique\": \"X-RAY DIFFRACTION\", \"publicationYear\": 2024, \"countedStructures\": 9222}, {\"experimentalTechnique\": \"SOLUTION NMR\", \"publicationYear\": 2024, \"countedStructures\": 279}, {\"experimentalTechnique\": \"ELECTRON MICROSCOPY\", \"publicationYear\": 2024, \"countedStructures\": 5788}, {\"experimentalTechnique\": \"X-RAY DIFFRACTION\", \"publicationYear\": 2025, \"countedStructures\": 1969}, {\"experimentalTechnique\": \"SOLUTION NMR\", \"publicationYear\": 2025, \"countedStructures\": 49}, {\"experimentalTechnique\": \"ELECTRON MICROSCOPY\", \"publicationYear\": 2025, \"countedStructures\": 1441}]}}, {\"mode\": \"vega-lite\"});\n",
       "</script>"
      ],
      "text/plain": [
       "alt.Chart(...)"
      ]
     },
     "execution_count": 10,
     "metadata": {},
     "output_type": "execute_result"
    }
   ],
   "source": [
    "# showing plot\n",
    "yearly_method"
   ]
  },
  {
   "cell_type": "code",
   "execution_count": 11,
   "id": "1f960674",
   "metadata": {},
   "outputs": [
    {
     "data": {
      "text/html": [
       "\n",
       "<style>\n",
       "  #altair-viz-42a5480a62f54fb7991fd1d62134fac1.vega-embed {\n",
       "    width: 100%;\n",
       "    display: flex;\n",
       "  }\n",
       "\n",
       "  #altair-viz-42a5480a62f54fb7991fd1d62134fac1.vega-embed details,\n",
       "  #altair-viz-42a5480a62f54fb7991fd1d62134fac1.vega-embed details summary {\n",
       "    position: relative;\n",
       "  }\n",
       "</style>\n",
       "<div id=\"altair-viz-42a5480a62f54fb7991fd1d62134fac1\"></div>\n",
       "<script type=\"text/javascript\">\n",
       "  var VEGA_DEBUG = (typeof VEGA_DEBUG == \"undefined\") ? {} : VEGA_DEBUG;\n",
       "  (function(spec, embedOpt){\n",
       "    let outputDiv = document.currentScript.previousElementSibling;\n",
       "    if (outputDiv.id !== \"altair-viz-42a5480a62f54fb7991fd1d62134fac1\") {\n",
       "      outputDiv = document.getElementById(\"altair-viz-42a5480a62f54fb7991fd1d62134fac1\");\n",
       "    }\n",
       "\n",
       "    const paths = {\n",
       "      \"vega\": \"https://cdn.jsdelivr.net/npm/vega@5?noext\",\n",
       "      \"vega-lib\": \"https://cdn.jsdelivr.net/npm/vega-lib?noext\",\n",
       "      \"vega-lite\": \"https://cdn.jsdelivr.net/npm/vega-lite@5.20.1?noext\",\n",
       "      \"vega-embed\": \"https://cdn.jsdelivr.net/npm/vega-embed@6?noext\",\n",
       "    };\n",
       "\n",
       "    function maybeLoadScript(lib, version) {\n",
       "      var key = `${lib.replace(\"-\", \"\")}_version`;\n",
       "      return (VEGA_DEBUG[key] == version) ?\n",
       "        Promise.resolve(paths[lib]) :\n",
       "        new Promise(function(resolve, reject) {\n",
       "          var s = document.createElement('script');\n",
       "          document.getElementsByTagName(\"head\")[0].appendChild(s);\n",
       "          s.async = true;\n",
       "          s.onload = () => {\n",
       "            VEGA_DEBUG[key] = version;\n",
       "            return resolve(paths[lib]);\n",
       "          };\n",
       "          s.onerror = () => reject(`Error loading script: ${paths[lib]}`);\n",
       "          s.src = paths[lib];\n",
       "        });\n",
       "    }\n",
       "\n",
       "    function showError(err) {\n",
       "      outputDiv.innerHTML = `<div class=\"error\" style=\"color:red;\">${err}</div>`;\n",
       "      throw err;\n",
       "    }\n",
       "\n",
       "    function displayChart(vegaEmbed) {\n",
       "      vegaEmbed(outputDiv, spec, embedOpt)\n",
       "        .catch(err => showError(`Javascript Error: ${err.message}<br>This usually means there's a typo in your chart specification. See the javascript console for the full traceback.`));\n",
       "    }\n",
       "\n",
       "    if(typeof define === \"function\" && define.amd) {\n",
       "      requirejs.config({paths});\n",
       "      let deps = [\"vega-embed\"];\n",
       "      require(deps, displayChart, err => showError(`Error loading script: ${err.message}`));\n",
       "    } else {\n",
       "      maybeLoadScript(\"vega\", \"5\")\n",
       "        .then(() => maybeLoadScript(\"vega-lite\", \"5.20.1\"))\n",
       "        .then(() => maybeLoadScript(\"vega-embed\", \"6\"))\n",
       "        .catch(showError)\n",
       "        .then(() => displayChart(vegaEmbed));\n",
       "    }\n",
       "  })({\"config\": {\"view\": {\"continuousWidth\": 300, \"continuousHeight\": 300}}, \"layer\": [{\"data\": {\"name\": \"data-ad59cb3ad4a7888678c11713bef514e2\"}, \"mark\": {\"type\": \"line\", \"color\": \"black\"}, \"encoding\": {\"x\": {\"field\": \"publicationYear\", \"title\": \"Publication year\", \"type\": \"ordinal\"}, \"y\": {\"field\": \"cumulative_count\", \"stack\": false, \"title\": \"Cumulative number of structures\", \"type\": \"quantitative\"}}, \"title\": \"Cumulative number of published structures in the RCSB PDB\", \"transform\": [{\"window\": [{\"op\": \"sum\", \"field\": \"countedStructures\", \"as\": \"summed\"}], \"sort\": [{\"field\": \"publicationYear\"}]}, {\"calculate\": \"(datum.summed + 365)\", \"as\": \"cumulative_count\"}]}, {\"data\": {\"name\": \"data-5932599cdd5edf7e6162d83a4c3eb198\"}, \"mark\": {\"type\": \"bar\", \"cornerRadiusTopLeft\": 3, \"cornerRadiusTopRight\": 3}, \"encoding\": {\"color\": {\"field\": \"experimentalTechnique\", \"title\": \"Method\", \"type\": \"nominal\"}, \"x\": {\"field\": \"publicationYear\", \"title\": \"Publication year\", \"type\": \"ordinal\"}, \"y\": {\"field\": \"countedStructures\", \"title\": \"Number of structures\", \"type\": \"quantitative\"}}, \"title\": \"Number of published structures per year by experimental method\"}], \"$schema\": \"https://vega.github.io/schema/vega-lite/v5.20.1.json\", \"datasets\": {\"data-ad59cb3ad4a7888678c11713bef514e2\": [{\"publicationYear\": 1990, \"countedStructures\": 142}, {\"publicationYear\": 1991, \"countedStructures\": 187}, {\"publicationYear\": 1992, \"countedStructures\": 192}, {\"publicationYear\": 1993, \"countedStructures\": 696}, {\"publicationYear\": 1994, \"countedStructures\": 1289}, {\"publicationYear\": 1995, \"countedStructures\": 941}, {\"publicationYear\": 1996, \"countedStructures\": 1172}, {\"publicationYear\": 1997, \"countedStructures\": 1564}, {\"publicationYear\": 1998, \"countedStructures\": 2055}, {\"publicationYear\": 1999, \"countedStructures\": 2356}, {\"publicationYear\": 2000, \"countedStructures\": 2624}, {\"publicationYear\": 2001, \"countedStructures\": 2811}, {\"publicationYear\": 2002, \"countedStructures\": 2994}, {\"publicationYear\": 2003, \"countedStructures\": 4145}, {\"publicationYear\": 2004, \"countedStructures\": 5149}, {\"publicationYear\": 2005, \"countedStructures\": 5334}, {\"publicationYear\": 2006, \"countedStructures\": 6405}, {\"publicationYear\": 2007, \"countedStructures\": 7134}, {\"publicationYear\": 2008, \"countedStructures\": 6903}, {\"publicationYear\": 2009, \"countedStructures\": 7288}, {\"publicationYear\": 2010, \"countedStructures\": 7743}, {\"publicationYear\": 2011, \"countedStructures\": 7925}, {\"publicationYear\": 2012, \"countedStructures\": 8751}, {\"publicationYear\": 2013, \"countedStructures\": 9338}, {\"publicationYear\": 2014, \"countedStructures\": 9554}, {\"publicationYear\": 2015, \"countedStructures\": 9244}, {\"publicationYear\": 2016, \"countedStructures\": 10803}, {\"publicationYear\": 2017, \"countedStructures\": 11059}, {\"publicationYear\": 2018, \"countedStructures\": 11155}, {\"publicationYear\": 2019, \"countedStructures\": 11471}, {\"publicationYear\": 2020, \"countedStructures\": 13985}, {\"publicationYear\": 2021, \"countedStructures\": 12569}, {\"publicationYear\": 2022, \"countedStructures\": 14255}, {\"publicationYear\": 2023, \"countedStructures\": 14452}, {\"publicationYear\": 2024, \"countedStructures\": 15313}, {\"publicationYear\": 2025, \"countedStructures\": 3466}], \"data-5932599cdd5edf7e6162d83a4c3eb198\": [{\"experimentalTechnique\": \"X-RAY DIFFRACTION\", \"publicationYear\": 1990, \"countedStructures\": 135}, {\"experimentalTechnique\": \"SOLUTION NMR\", \"publicationYear\": 1990, \"countedStructures\": 7}, {\"experimentalTechnique\": \"ELECTRON MICROSCOPY\", \"publicationYear\": 1990, \"countedStructures\": 0}, {\"experimentalTechnique\": \"X-RAY DIFFRACTION\", \"publicationYear\": 1991, \"countedStructures\": 162}, {\"experimentalTechnique\": \"SOLUTION NMR\", \"publicationYear\": 1991, \"countedStructures\": 23}, {\"experimentalTechnique\": \"ELECTRON MICROSCOPY\", \"publicationYear\": 1991, \"countedStructures\": 0}, {\"experimentalTechnique\": \"X-RAY DIFFRACTION\", \"publicationYear\": 1992, \"countedStructures\": 181}, {\"experimentalTechnique\": \"SOLUTION NMR\", \"publicationYear\": 1992, \"countedStructures\": 11}, {\"experimentalTechnique\": \"ELECTRON MICROSCOPY\", \"publicationYear\": 1992, \"countedStructures\": 0}, {\"experimentalTechnique\": \"X-RAY DIFFRACTION\", \"publicationYear\": 1993, \"countedStructures\": 622}, {\"experimentalTechnique\": \"SOLUTION NMR\", \"publicationYear\": 1993, \"countedStructures\": 74}, {\"experimentalTechnique\": \"ELECTRON MICROSCOPY\", \"publicationYear\": 1993, \"countedStructures\": 0}, {\"experimentalTechnique\": \"X-RAY DIFFRACTION\", \"publicationYear\": 1994, \"countedStructures\": 1057}, {\"experimentalTechnique\": \"SOLUTION NMR\", \"publicationYear\": 1994, \"countedStructures\": 222}, {\"experimentalTechnique\": \"ELECTRON MICROSCOPY\", \"publicationYear\": 1994, \"countedStructures\": 0}, {\"experimentalTechnique\": \"X-RAY DIFFRACTION\", \"publicationYear\": 1995, \"countedStructures\": 748}, {\"experimentalTechnique\": \"SOLUTION NMR\", \"publicationYear\": 1995, \"countedStructures\": 190}, {\"experimentalTechnique\": \"ELECTRON MICROSCOPY\", \"publicationYear\": 1995, \"countedStructures\": 0}, {\"experimentalTechnique\": \"X-RAY DIFFRACTION\", \"publicationYear\": 1996, \"countedStructures\": 980}, {\"experimentalTechnique\": \"SOLUTION NMR\", \"publicationYear\": 1996, \"countedStructures\": 188}, {\"experimentalTechnique\": \"ELECTRON MICROSCOPY\", \"publicationYear\": 1996, \"countedStructures\": 0}, {\"experimentalTechnique\": \"X-RAY DIFFRACTION\", \"publicationYear\": 1997, \"countedStructures\": 1233}, {\"experimentalTechnique\": \"SOLUTION NMR\", \"publicationYear\": 1997, \"countedStructures\": 328}, {\"experimentalTechnique\": \"ELECTRON MICROSCOPY\", \"publicationYear\": 1997, \"countedStructures\": 1}, {\"experimentalTechnique\": \"X-RAY DIFFRACTION\", \"publicationYear\": 1998, \"countedStructures\": 1721}, {\"experimentalTechnique\": \"SOLUTION NMR\", \"publicationYear\": 1998, \"countedStructures\": 331}, {\"experimentalTechnique\": \"ELECTRON MICROSCOPY\", \"publicationYear\": 1998, \"countedStructures\": 0}, {\"experimentalTechnique\": \"X-RAY DIFFRACTION\", \"publicationYear\": 1999, \"countedStructures\": 1960}, {\"experimentalTechnique\": \"SOLUTION NMR\", \"publicationYear\": 1999, \"countedStructures\": 389}, {\"experimentalTechnique\": \"ELECTRON MICROSCOPY\", \"publicationYear\": 1999, \"countedStructures\": 1}, {\"experimentalTechnique\": \"X-RAY DIFFRACTION\", \"publicationYear\": 2000, \"countedStructures\": 2231}, {\"experimentalTechnique\": \"SOLUTION NMR\", \"publicationYear\": 2000, \"countedStructures\": 370}, {\"experimentalTechnique\": \"ELECTRON MICROSCOPY\", \"publicationYear\": 2000, \"countedStructures\": 11}, {\"experimentalTechnique\": \"X-RAY DIFFRACTION\", \"publicationYear\": 2001, \"countedStructures\": 2376}, {\"experimentalTechnique\": \"SOLUTION NMR\", \"publicationYear\": 2001, \"countedStructures\": 413}, {\"experimentalTechnique\": \"ELECTRON MICROSCOPY\", \"publicationYear\": 2001, \"countedStructures\": 9}, {\"experimentalTechnique\": \"X-RAY DIFFRACTION\", \"publicationYear\": 2002, \"countedStructures\": 2525}, {\"experimentalTechnique\": \"SOLUTION NMR\", \"publicationYear\": 2002, \"countedStructures\": 438}, {\"experimentalTechnique\": \"ELECTRON MICROSCOPY\", \"publicationYear\": 2002, \"countedStructures\": 24}, {\"experimentalTechnique\": \"X-RAY DIFFRACTION\", \"publicationYear\": 2003, \"countedStructures\": 3584}, {\"experimentalTechnique\": \"SOLUTION NMR\", \"publicationYear\": 2003, \"countedStructures\": 524}, {\"experimentalTechnique\": \"ELECTRON MICROSCOPY\", \"publicationYear\": 2003, \"countedStructures\": 29}, {\"experimentalTechnique\": \"X-RAY DIFFRACTION\", \"publicationYear\": 2004, \"countedStructures\": 4394}, {\"experimentalTechnique\": \"SOLUTION NMR\", \"publicationYear\": 2004, \"countedStructures\": 727}, {\"experimentalTechnique\": \"ELECTRON MICROSCOPY\", \"publicationYear\": 2004, \"countedStructures\": 12}, {\"experimentalTechnique\": \"X-RAY DIFFRACTION\", \"publicationYear\": 2005, \"countedStructures\": 4426}, {\"experimentalTechnique\": \"SOLUTION NMR\", \"publicationYear\": 2005, \"countedStructures\": 871}, {\"experimentalTechnique\": \"ELECTRON MICROSCOPY\", \"publicationYear\": 2005, \"countedStructures\": 23}, {\"experimentalTechnique\": \"X-RAY DIFFRACTION\", \"publicationYear\": 2006, \"countedStructures\": 5506}, {\"experimentalTechnique\": \"SOLUTION NMR\", \"publicationYear\": 2006, \"countedStructures\": 857}, {\"experimentalTechnique\": \"ELECTRON MICROSCOPY\", \"publicationYear\": 2006, \"countedStructures\": 26}, {\"experimentalTechnique\": \"X-RAY DIFFRACTION\", \"publicationYear\": 2007, \"countedStructures\": 6141}, {\"experimentalTechnique\": \"SOLUTION NMR\", \"publicationYear\": 2007, \"countedStructures\": 962}, {\"experimentalTechnique\": \"ELECTRON MICROSCOPY\", \"publicationYear\": 2007, \"countedStructures\": 19}, {\"experimentalTechnique\": \"X-RAY DIFFRACTION\", \"publicationYear\": 2008, \"countedStructures\": 6198}, {\"experimentalTechnique\": \"SOLUTION NMR\", \"publicationYear\": 2008, \"countedStructures\": 647}, {\"experimentalTechnique\": \"ELECTRON MICROSCOPY\", \"publicationYear\": 2008, \"countedStructures\": 41}, {\"experimentalTechnique\": \"X-RAY DIFFRACTION\", \"publicationYear\": 2009, \"countedStructures\": 6662}, {\"experimentalTechnique\": \"SOLUTION NMR\", \"publicationYear\": 2009, \"countedStructures\": 564}, {\"experimentalTechnique\": \"ELECTRON MICROSCOPY\", \"publicationYear\": 2009, \"countedStructures\": 40}, {\"experimentalTechnique\": \"X-RAY DIFFRACTION\", \"publicationYear\": 2010, \"countedStructures\": 7163}, {\"experimentalTechnique\": \"SOLUTION NMR\", \"publicationYear\": 2010, \"countedStructures\": 510}, {\"experimentalTechnique\": \"ELECTRON MICROSCOPY\", \"publicationYear\": 2010, \"countedStructures\": 53}, {\"experimentalTechnique\": \"X-RAY DIFFRACTION\", \"publicationYear\": 2011, \"countedStructures\": 7342}, {\"experimentalTechnique\": \"SOLUTION NMR\", \"publicationYear\": 2011, \"countedStructures\": 515}, {\"experimentalTechnique\": \"ELECTRON MICROSCOPY\", \"publicationYear\": 2011, \"countedStructures\": 53}, {\"experimentalTechnique\": \"X-RAY DIFFRACTION\", \"publicationYear\": 2012, \"countedStructures\": 8144}, {\"experimentalTechnique\": \"SOLUTION NMR\", \"publicationYear\": 2012, \"countedStructures\": 529}, {\"experimentalTechnique\": \"ELECTRON MICROSCOPY\", \"publicationYear\": 2012, \"countedStructures\": 65}, {\"experimentalTechnique\": \"X-RAY DIFFRACTION\", \"publicationYear\": 2013, \"countedStructures\": 8709}, {\"experimentalTechnique\": \"SOLUTION NMR\", \"publicationYear\": 2013, \"countedStructures\": 494}, {\"experimentalTechnique\": \"ELECTRON MICROSCOPY\", \"publicationYear\": 2013, \"countedStructures\": 118}, {\"experimentalTechnique\": \"X-RAY DIFFRACTION\", \"publicationYear\": 2014, \"countedStructures\": 8810}, {\"experimentalTechnique\": \"SOLUTION NMR\", \"publicationYear\": 2014, \"countedStructures\": 543}, {\"experimentalTechnique\": \"ELECTRON MICROSCOPY\", \"publicationYear\": 2014, \"countedStructures\": 186}, {\"experimentalTechnique\": \"X-RAY DIFFRACTION\", \"publicationYear\": 2015, \"countedStructures\": 8591}, {\"experimentalTechnique\": \"SOLUTION NMR\", \"publicationYear\": 2015, \"countedStructures\": 419}, {\"experimentalTechnique\": \"ELECTRON MICROSCOPY\", \"publicationYear\": 2015, \"countedStructures\": 213}, {\"experimentalTechnique\": \"X-RAY DIFFRACTION\", \"publicationYear\": 2016, \"countedStructures\": 9934}, {\"experimentalTechnique\": \"SOLUTION NMR\", \"publicationYear\": 2016, \"countedStructures\": 446}, {\"experimentalTechnique\": \"ELECTRON MICROSCOPY\", \"publicationYear\": 2016, \"countedStructures\": 406}, {\"experimentalTechnique\": \"X-RAY DIFFRACTION\", \"publicationYear\": 2017, \"countedStructures\": 10077}, {\"experimentalTechnique\": \"SOLUTION NMR\", \"publicationYear\": 2017, \"countedStructures\": 407}, {\"experimentalTechnique\": \"ELECTRON MICROSCOPY\", \"publicationYear\": 2017, \"countedStructures\": 550}, {\"experimentalTechnique\": \"X-RAY DIFFRACTION\", \"publicationYear\": 2018, \"countedStructures\": 9870}, {\"experimentalTechnique\": \"SOLUTION NMR\", \"publicationYear\": 2018, \"countedStructures\": 389}, {\"experimentalTechnique\": \"ELECTRON MICROSCOPY\", \"publicationYear\": 2018, \"countedStructures\": 844}, {\"experimentalTechnique\": \"X-RAY DIFFRACTION\", \"publicationYear\": 2019, \"countedStructures\": 9633}, {\"experimentalTechnique\": \"SOLUTION NMR\", \"publicationYear\": 2019, \"countedStructures\": 379}, {\"experimentalTechnique\": \"ELECTRON MICROSCOPY\", \"publicationYear\": 2019, \"countedStructures\": 1421}, {\"experimentalTechnique\": \"X-RAY DIFFRACTION\", \"publicationYear\": 2020, \"countedStructures\": 11211}, {\"experimentalTechnique\": \"SOLUTION NMR\", \"publicationYear\": 2020, \"countedStructures\": 368}, {\"experimentalTechnique\": \"ELECTRON MICROSCOPY\", \"publicationYear\": 2020, \"countedStructures\": 2363}, {\"experimentalTechnique\": \"X-RAY DIFFRACTION\", \"publicationYear\": 2021, \"countedStructures\": 9251}, {\"experimentalTechnique\": \"SOLUTION NMR\", \"publicationYear\": 2021, \"countedStructures\": 361}, {\"experimentalTechnique\": \"ELECTRON MICROSCOPY\", \"publicationYear\": 2021, \"countedStructures\": 2947}, {\"experimentalTechnique\": \"X-RAY DIFFRACTION\", \"publicationYear\": 2022, \"countedStructures\": 9841}, {\"experimentalTechnique\": \"SOLUTION NMR\", \"publicationYear\": 2022, \"countedStructures\": 296}, {\"experimentalTechnique\": \"ELECTRON MICROSCOPY\", \"publicationYear\": 2022, \"countedStructures\": 4058}, {\"experimentalTechnique\": \"X-RAY DIFFRACTION\", \"publicationYear\": 2023, \"countedStructures\": 9600}, {\"experimentalTechnique\": \"SOLUTION NMR\", \"publicationYear\": 2023, \"countedStructures\": 255}, {\"experimentalTechnique\": \"ELECTRON MICROSCOPY\", \"publicationYear\": 2023, \"countedStructures\": 4562}, {\"experimentalTechnique\": \"X-RAY DIFFRACTION\", \"publicationYear\": 2024, \"countedStructures\": 9222}, {\"experimentalTechnique\": \"SOLUTION NMR\", \"publicationYear\": 2024, \"countedStructures\": 279}, {\"experimentalTechnique\": \"ELECTRON MICROSCOPY\", \"publicationYear\": 2024, \"countedStructures\": 5788}, {\"experimentalTechnique\": \"X-RAY DIFFRACTION\", \"publicationYear\": 2025, \"countedStructures\": 1969}, {\"experimentalTechnique\": \"SOLUTION NMR\", \"publicationYear\": 2025, \"countedStructures\": 49}, {\"experimentalTechnique\": \"ELECTRON MICROSCOPY\", \"publicationYear\": 2025, \"countedStructures\": 1441}]}}, {\"mode\": \"vega-lite\"});\n",
       "</script>"
      ],
      "text/plain": [
       "alt.LayerChart(...)"
      ]
     },
     "execution_count": 11,
     "metadata": {},
     "output_type": "execute_result"
    }
   ],
   "source": [
    "# combining plots\n",
    "alt.layer(cumulative, yearly_method)"
   ]
  },
  {
   "cell_type": "markdown",
   "id": "a3ce7b39",
   "metadata": {},
   "source": [
    "### 3) Types of structures\n",
    "there are mostly protein structures in the database"
   ]
  },
  {
   "cell_type": "code",
   "execution_count": 14,
   "id": "e9ed0d18",
   "metadata": {},
   "outputs": [],
   "source": [
    "# number of added structures obtained by structure type from 1990 per year\n",
    "# runs for about a minute\n",
    "\n",
    "types=[\"Protein\", \"DNA\", \"RNA\", \"NA-hybrid\", \"Other\"]\n",
    "data_rcsb_type=get_data (years, \"entity_poly.rcsb_entity_polymer_type\", types, 'macromoleculeType')"
   ]
  },
  {
   "cell_type": "code",
   "execution_count": 15,
   "id": "d5282ea3",
   "metadata": {},
   "outputs": [
    {
     "data": {
      "text/html": [
       "\n",
       "<style>\n",
       "  #altair-viz-cabc45bd295f4c998193ad20df02f518.vega-embed {\n",
       "    width: 100%;\n",
       "    display: flex;\n",
       "  }\n",
       "\n",
       "  #altair-viz-cabc45bd295f4c998193ad20df02f518.vega-embed details,\n",
       "  #altair-viz-cabc45bd295f4c998193ad20df02f518.vega-embed details summary {\n",
       "    position: relative;\n",
       "  }\n",
       "</style>\n",
       "<div id=\"altair-viz-cabc45bd295f4c998193ad20df02f518\"></div>\n",
       "<script type=\"text/javascript\">\n",
       "  var VEGA_DEBUG = (typeof VEGA_DEBUG == \"undefined\") ? {} : VEGA_DEBUG;\n",
       "  (function(spec, embedOpt){\n",
       "    let outputDiv = document.currentScript.previousElementSibling;\n",
       "    if (outputDiv.id !== \"altair-viz-cabc45bd295f4c998193ad20df02f518\") {\n",
       "      outputDiv = document.getElementById(\"altair-viz-cabc45bd295f4c998193ad20df02f518\");\n",
       "    }\n",
       "\n",
       "    const paths = {\n",
       "      \"vega\": \"https://cdn.jsdelivr.net/npm/vega@5?noext\",\n",
       "      \"vega-lib\": \"https://cdn.jsdelivr.net/npm/vega-lib?noext\",\n",
       "      \"vega-lite\": \"https://cdn.jsdelivr.net/npm/vega-lite@5.20.1?noext\",\n",
       "      \"vega-embed\": \"https://cdn.jsdelivr.net/npm/vega-embed@6?noext\",\n",
       "    };\n",
       "\n",
       "    function maybeLoadScript(lib, version) {\n",
       "      var key = `${lib.replace(\"-\", \"\")}_version`;\n",
       "      return (VEGA_DEBUG[key] == version) ?\n",
       "        Promise.resolve(paths[lib]) :\n",
       "        new Promise(function(resolve, reject) {\n",
       "          var s = document.createElement('script');\n",
       "          document.getElementsByTagName(\"head\")[0].appendChild(s);\n",
       "          s.async = true;\n",
       "          s.onload = () => {\n",
       "            VEGA_DEBUG[key] = version;\n",
       "            return resolve(paths[lib]);\n",
       "          };\n",
       "          s.onerror = () => reject(`Error loading script: ${paths[lib]}`);\n",
       "          s.src = paths[lib];\n",
       "        });\n",
       "    }\n",
       "\n",
       "    function showError(err) {\n",
       "      outputDiv.innerHTML = `<div class=\"error\" style=\"color:red;\">${err}</div>`;\n",
       "      throw err;\n",
       "    }\n",
       "\n",
       "    function displayChart(vegaEmbed) {\n",
       "      vegaEmbed(outputDiv, spec, embedOpt)\n",
       "        .catch(err => showError(`Javascript Error: ${err.message}<br>This usually means there's a typo in your chart specification. See the javascript console for the full traceback.`));\n",
       "    }\n",
       "\n",
       "    if(typeof define === \"function\" && define.amd) {\n",
       "      requirejs.config({paths});\n",
       "      let deps = [\"vega-embed\"];\n",
       "      require(deps, displayChart, err => showError(`Error loading script: ${err.message}`));\n",
       "    } else {\n",
       "      maybeLoadScript(\"vega\", \"5\")\n",
       "        .then(() => maybeLoadScript(\"vega-lite\", \"5.20.1\"))\n",
       "        .then(() => maybeLoadScript(\"vega-embed\", \"6\"))\n",
       "        .catch(showError)\n",
       "        .then(() => displayChart(vegaEmbed));\n",
       "    }\n",
       "  })({\"config\": {\"view\": {\"continuousWidth\": 300, \"continuousHeight\": 300}}, \"data\": {\"name\": \"data-cd95613fd895c0018a146f65cd9be949\"}, \"mark\": {\"type\": \"bar\", \"cornerRadiusTopLeft\": 3, \"cornerRadiusTopRight\": 3}, \"encoding\": {\"color\": {\"field\": \"macromoleculeType\", \"title\": \"Type\", \"type\": \"nominal\"}, \"x\": {\"field\": \"publicationYear\", \"title\": \"Publication year\", \"type\": \"ordinal\"}, \"y\": {\"field\": \"countedStructures\", \"title\": \"Number of structures\", \"type\": \"quantitative\"}}, \"title\": \"Number of published structures per year by structure type\", \"$schema\": \"https://vega.github.io/schema/vega-lite/v5.20.1.json\", \"datasets\": {\"data-cd95613fd895c0018a146f65cd9be949\": [{\"macromoleculeType\": \"Protein\", \"publicationYear\": 1990, \"countedStructures\": 132}, {\"macromoleculeType\": \"DNA\", \"publicationYear\": 1990, \"countedStructures\": 10}, {\"macromoleculeType\": \"RNA\", \"publicationYear\": 1990, \"countedStructures\": 0}, {\"macromoleculeType\": \"NA-hybrid\", \"publicationYear\": 1990, \"countedStructures\": 0}, {\"macromoleculeType\": \"Other\", \"publicationYear\": 1990, \"countedStructures\": 0}, {\"macromoleculeType\": \"Protein\", \"publicationYear\": 1991, \"countedStructures\": 170}, {\"macromoleculeType\": \"DNA\", \"publicationYear\": 1991, \"countedStructures\": 19}, {\"macromoleculeType\": \"RNA\", \"publicationYear\": 1991, \"countedStructures\": 1}, {\"macromoleculeType\": \"NA-hybrid\", \"publicationYear\": 1991, \"countedStructures\": 0}, {\"macromoleculeType\": \"Other\", \"publicationYear\": 1991, \"countedStructures\": 0}, {\"macromoleculeType\": \"Protein\", \"publicationYear\": 1992, \"countedStructures\": 162}, {\"macromoleculeType\": \"DNA\", \"publicationYear\": 1992, \"countedStructures\": 35}, {\"macromoleculeType\": \"RNA\", \"publicationYear\": 1992, \"countedStructures\": 1}, {\"macromoleculeType\": \"NA-hybrid\", \"publicationYear\": 1992, \"countedStructures\": 0}, {\"macromoleculeType\": \"Other\", \"publicationYear\": 1992, \"countedStructures\": 0}, {\"macromoleculeType\": \"Protein\", \"publicationYear\": 1993, \"countedStructures\": 640}, {\"macromoleculeType\": \"DNA\", \"publicationYear\": 1993, \"countedStructures\": 64}, {\"macromoleculeType\": \"RNA\", \"publicationYear\": 1993, \"countedStructures\": 1}, {\"macromoleculeType\": \"NA-hybrid\", \"publicationYear\": 1993, \"countedStructures\": 4}, {\"macromoleculeType\": \"Other\", \"publicationYear\": 1993, \"countedStructures\": 0}, {\"macromoleculeType\": \"Protein\", \"publicationYear\": 1994, \"countedStructures\": 1234}, {\"macromoleculeType\": \"DNA\", \"publicationYear\": 1994, \"countedStructures\": 74}, {\"macromoleculeType\": \"RNA\", \"publicationYear\": 1994, \"countedStructures\": 9}, {\"macromoleculeType\": \"NA-hybrid\", \"publicationYear\": 1994, \"countedStructures\": 4}, {\"macromoleculeType\": \"Other\", \"publicationYear\": 1994, \"countedStructures\": 1}, {\"macromoleculeType\": \"Protein\", \"publicationYear\": 1995, \"countedStructures\": 883}, {\"macromoleculeType\": \"DNA\", \"publicationYear\": 1995, \"countedStructures\": 79}, {\"macromoleculeType\": \"RNA\", \"publicationYear\": 1995, \"countedStructures\": 16}, {\"macromoleculeType\": \"NA-hybrid\", \"publicationYear\": 1995, \"countedStructures\": 2}, {\"macromoleculeType\": \"Other\", \"publicationYear\": 1995, \"countedStructures\": 0}, {\"macromoleculeType\": \"Protein\", \"publicationYear\": 1996, \"countedStructures\": 1073}, {\"macromoleculeType\": \"DNA\", \"publicationYear\": 1996, \"countedStructures\": 183}, {\"macromoleculeType\": \"RNA\", \"publicationYear\": 1996, \"countedStructures\": 21}, {\"macromoleculeType\": \"NA-hybrid\", \"publicationYear\": 1996, \"countedStructures\": 10}, {\"macromoleculeType\": \"Other\", \"publicationYear\": 1996, \"countedStructures\": 0}, {\"macromoleculeType\": \"Protein\", \"publicationYear\": 1997, \"countedStructures\": 1419}, {\"macromoleculeType\": \"DNA\", \"publicationYear\": 1997, \"countedStructures\": 134}, {\"macromoleculeType\": \"RNA\", \"publicationYear\": 1997, \"countedStructures\": 57}, {\"macromoleculeType\": \"NA-hybrid\", \"publicationYear\": 1997, \"countedStructures\": 3}, {\"macromoleculeType\": \"Other\", \"publicationYear\": 1997, \"countedStructures\": 0}, {\"macromoleculeType\": \"Protein\", \"publicationYear\": 1998, \"countedStructures\": 1937}, {\"macromoleculeType\": \"DNA\", \"publicationYear\": 1998, \"countedStructures\": 170}, {\"macromoleculeType\": \"RNA\", \"publicationYear\": 1998, \"countedStructures\": 49}, {\"macromoleculeType\": \"NA-hybrid\", \"publicationYear\": 1998, \"countedStructures\": 3}, {\"macromoleculeType\": \"Other\", \"publicationYear\": 1998, \"countedStructures\": 0}, {\"macromoleculeType\": \"Protein\", \"publicationYear\": 1999, \"countedStructures\": 2226}, {\"macromoleculeType\": \"DNA\", \"publicationYear\": 1999, \"countedStructures\": 170}, {\"macromoleculeType\": \"RNA\", \"publicationYear\": 1999, \"countedStructures\": 69}, {\"macromoleculeType\": \"NA-hybrid\", \"publicationYear\": 1999, \"countedStructures\": 5}, {\"macromoleculeType\": \"Other\", \"publicationYear\": 1999, \"countedStructures\": 0}, {\"macromoleculeType\": \"Protein\", \"publicationYear\": 2000, \"countedStructures\": 2482}, {\"macromoleculeType\": \"DNA\", \"publicationYear\": 2000, \"countedStructures\": 157}, {\"macromoleculeType\": \"RNA\", \"publicationYear\": 2000, \"countedStructures\": 79}, {\"macromoleculeType\": \"NA-hybrid\", \"publicationYear\": 2000, \"countedStructures\": 7}, {\"macromoleculeType\": \"Other\", \"publicationYear\": 2000, \"countedStructures\": 0}, {\"macromoleculeType\": \"Protein\", \"publicationYear\": 2001, \"countedStructures\": 2691}, {\"macromoleculeType\": \"DNA\", \"publicationYear\": 2001, \"countedStructures\": 139}, {\"macromoleculeType\": \"RNA\", \"publicationYear\": 2001, \"countedStructures\": 82}, {\"macromoleculeType\": \"NA-hybrid\", \"publicationYear\": 2001, \"countedStructures\": 9}, {\"macromoleculeType\": \"Other\", \"publicationYear\": 2001, \"countedStructures\": 0}, {\"macromoleculeType\": \"Protein\", \"publicationYear\": 2002, \"countedStructures\": 2886}, {\"macromoleculeType\": \"DNA\", \"publicationYear\": 2002, \"countedStructures\": 156}, {\"macromoleculeType\": \"RNA\", \"publicationYear\": 2002, \"countedStructures\": 78}, {\"macromoleculeType\": \"NA-hybrid\", \"publicationYear\": 2002, \"countedStructures\": 4}, {\"macromoleculeType\": \"Other\", \"publicationYear\": 2002, \"countedStructures\": 0}, {\"macromoleculeType\": \"Protein\", \"publicationYear\": 2003, \"countedStructures\": 3991}, {\"macromoleculeType\": \"DNA\", \"publicationYear\": 2003, \"countedStructures\": 203}, {\"macromoleculeType\": \"RNA\", \"publicationYear\": 2003, \"countedStructures\": 124}, {\"macromoleculeType\": \"NA-hybrid\", \"publicationYear\": 2003, \"countedStructures\": 7}, {\"macromoleculeType\": \"Other\", \"publicationYear\": 2003, \"countedStructures\": 0}, {\"macromoleculeType\": \"Protein\", \"publicationYear\": 2004, \"countedStructures\": 5030}, {\"macromoleculeType\": \"DNA\", \"publicationYear\": 2004, \"countedStructures\": 245}, {\"macromoleculeType\": \"RNA\", \"publicationYear\": 2004, \"countedStructures\": 104}, {\"macromoleculeType\": \"NA-hybrid\", \"publicationYear\": 2004, \"countedStructures\": 1}, {\"macromoleculeType\": \"Other\", \"publicationYear\": 2004, \"countedStructures\": 0}, {\"macromoleculeType\": \"Protein\", \"publicationYear\": 2005, \"countedStructures\": 5186}, {\"macromoleculeType\": \"DNA\", \"publicationYear\": 2005, \"countedStructures\": 194}, {\"macromoleculeType\": \"RNA\", \"publicationYear\": 2005, \"countedStructures\": 144}, {\"macromoleculeType\": \"NA-hybrid\", \"publicationYear\": 2005, \"countedStructures\": 1}, {\"macromoleculeType\": \"Other\", \"publicationYear\": 2005, \"countedStructures\": 0}, {\"macromoleculeType\": \"Protein\", \"publicationYear\": 2006, \"countedStructures\": 6277}, {\"macromoleculeType\": \"DNA\", \"publicationYear\": 2006, \"countedStructures\": 237}, {\"macromoleculeType\": \"RNA\", \"publicationYear\": 2006, \"countedStructures\": 172}, {\"macromoleculeType\": \"NA-hybrid\", \"publicationYear\": 2006, \"countedStructures\": 4}, {\"macromoleculeType\": \"Other\", \"publicationYear\": 2006, \"countedStructures\": 0}, {\"macromoleculeType\": \"Protein\", \"publicationYear\": 2007, \"countedStructures\": 6990}, {\"macromoleculeType\": \"DNA\", \"publicationYear\": 2007, \"countedStructures\": 223}, {\"macromoleculeType\": \"RNA\", \"publicationYear\": 2007, \"countedStructures\": 158}, {\"macromoleculeType\": \"NA-hybrid\", \"publicationYear\": 2007, \"countedStructures\": 6}, {\"macromoleculeType\": \"Other\", \"publicationYear\": 2007, \"countedStructures\": 0}, {\"macromoleculeType\": \"Protein\", \"publicationYear\": 2008, \"countedStructures\": 6783}, {\"macromoleculeType\": \"DNA\", \"publicationYear\": 2008, \"countedStructures\": 206}, {\"macromoleculeType\": \"RNA\", \"publicationYear\": 2008, \"countedStructures\": 184}, {\"macromoleculeType\": \"NA-hybrid\", \"publicationYear\": 2008, \"countedStructures\": 6}, {\"macromoleculeType\": \"Other\", \"publicationYear\": 2008, \"countedStructures\": 0}, {\"macromoleculeType\": \"Protein\", \"publicationYear\": 2009, \"countedStructures\": 7150}, {\"macromoleculeType\": \"DNA\", \"publicationYear\": 2009, \"countedStructures\": 251}, {\"macromoleculeType\": \"RNA\", \"publicationYear\": 2009, \"countedStructures\": 158}, {\"macromoleculeType\": \"NA-hybrid\", \"publicationYear\": 2009, \"countedStructures\": 6}, {\"macromoleculeType\": \"Other\", \"publicationYear\": 2009, \"countedStructures\": 1}, {\"macromoleculeType\": \"Protein\", \"publicationYear\": 2010, \"countedStructures\": 7625}, {\"macromoleculeType\": \"DNA\", \"publicationYear\": 2010, \"countedStructures\": 319}, {\"macromoleculeType\": \"RNA\", \"publicationYear\": 2010, \"countedStructures\": 176}, {\"macromoleculeType\": \"NA-hybrid\", \"publicationYear\": 2010, \"countedStructures\": 9}, {\"macromoleculeType\": \"Other\", \"publicationYear\": 2010, \"countedStructures\": 1}, {\"macromoleculeType\": \"Protein\", \"publicationYear\": 2011, \"countedStructures\": 7791}, {\"macromoleculeType\": \"DNA\", \"publicationYear\": 2011, \"countedStructures\": 314}, {\"macromoleculeType\": \"RNA\", \"publicationYear\": 2011, \"countedStructures\": 204}, {\"macromoleculeType\": \"NA-hybrid\", \"publicationYear\": 2011, \"countedStructures\": 3}, {\"macromoleculeType\": \"Other\", \"publicationYear\": 2011, \"countedStructures\": 2}, {\"macromoleculeType\": \"Protein\", \"publicationYear\": 2012, \"countedStructures\": 8615}, {\"macromoleculeType\": \"DNA\", \"publicationYear\": 2012, \"countedStructures\": 446}, {\"macromoleculeType\": \"RNA\", \"publicationYear\": 2012, \"countedStructures\": 160}, {\"macromoleculeType\": \"NA-hybrid\", \"publicationYear\": 2012, \"countedStructures\": 6}, {\"macromoleculeType\": \"Other\", \"publicationYear\": 2012, \"countedStructures\": 0}, {\"macromoleculeType\": \"Protein\", \"publicationYear\": 2013, \"countedStructures\": 9205}, {\"macromoleculeType\": \"DNA\", \"publicationYear\": 2013, \"countedStructures\": 384}, {\"macromoleculeType\": \"RNA\", \"publicationYear\": 2013, \"countedStructures\": 200}, {\"macromoleculeType\": \"NA-hybrid\", \"publicationYear\": 2013, \"countedStructures\": 15}, {\"macromoleculeType\": \"Other\", \"publicationYear\": 2013, \"countedStructures\": 0}, {\"macromoleculeType\": \"Protein\", \"publicationYear\": 2014, \"countedStructures\": 9402}, {\"macromoleculeType\": \"DNA\", \"publicationYear\": 2014, \"countedStructures\": 390}, {\"macromoleculeType\": \"RNA\", \"publicationYear\": 2014, \"countedStructures\": 468}, {\"macromoleculeType\": \"NA-hybrid\", \"publicationYear\": 2014, \"countedStructures\": 4}, {\"macromoleculeType\": \"Other\", \"publicationYear\": 2014, \"countedStructures\": 0}, {\"macromoleculeType\": \"Protein\", \"publicationYear\": 2015, \"countedStructures\": 9118}, {\"macromoleculeType\": \"DNA\", \"publicationYear\": 2015, \"countedStructures\": 406}, {\"macromoleculeType\": \"RNA\", \"publicationYear\": 2015, \"countedStructures\": 313}, {\"macromoleculeType\": \"NA-hybrid\", \"publicationYear\": 2015, \"countedStructures\": 6}, {\"macromoleculeType\": \"Other\", \"publicationYear\": 2015, \"countedStructures\": 0}, {\"macromoleculeType\": \"Protein\", \"publicationYear\": 2016, \"countedStructures\": 10651}, {\"macromoleculeType\": \"DNA\", \"publicationYear\": 2016, \"countedStructures\": 498}, {\"macromoleculeType\": \"RNA\", \"publicationYear\": 2016, \"countedStructures\": 355}, {\"macromoleculeType\": \"NA-hybrid\", \"publicationYear\": 2016, \"countedStructures\": 19}, {\"macromoleculeType\": \"Other\", \"publicationYear\": 2016, \"countedStructures\": 3}, {\"macromoleculeType\": \"Protein\", \"publicationYear\": 2017, \"countedStructures\": 10901}, {\"macromoleculeType\": \"DNA\", \"publicationYear\": 2017, \"countedStructures\": 482}, {\"macromoleculeType\": \"RNA\", \"publicationYear\": 2017, \"countedStructures\": 344}, {\"macromoleculeType\": \"NA-hybrid\", \"publicationYear\": 2017, \"countedStructures\": 14}, {\"macromoleculeType\": \"Other\", \"publicationYear\": 2017, \"countedStructures\": 0}, {\"macromoleculeType\": \"Protein\", \"publicationYear\": 2018, \"countedStructures\": 11033}, {\"macromoleculeType\": \"DNA\", \"publicationYear\": 2018, \"countedStructures\": 565}, {\"macromoleculeType\": \"RNA\", \"publicationYear\": 2018, \"countedStructures\": 444}, {\"macromoleculeType\": \"NA-hybrid\", \"publicationYear\": 2018, \"countedStructures\": 18}, {\"macromoleculeType\": \"Other\", \"publicationYear\": 2018, \"countedStructures\": 0}, {\"macromoleculeType\": \"Protein\", \"publicationYear\": 2019, \"countedStructures\": 11324}, {\"macromoleculeType\": \"DNA\", \"publicationYear\": 2019, \"countedStructures\": 543}, {\"macromoleculeType\": \"RNA\", \"publicationYear\": 2019, \"countedStructures\": 454}, {\"macromoleculeType\": \"NA-hybrid\", \"publicationYear\": 2019, \"countedStructures\": 22}, {\"macromoleculeType\": \"Other\", \"publicationYear\": 2019, \"countedStructures\": 0}, {\"macromoleculeType\": \"Protein\", \"publicationYear\": 2020, \"countedStructures\": 13805}, {\"macromoleculeType\": \"DNA\", \"publicationYear\": 2020, \"countedStructures\": 640}, {\"macromoleculeType\": \"RNA\", \"publicationYear\": 2020, \"countedStructures\": 628}, {\"macromoleculeType\": \"NA-hybrid\", \"publicationYear\": 2020, \"countedStructures\": 11}, {\"macromoleculeType\": \"Other\", \"publicationYear\": 2020, \"countedStructures\": 0}, {\"macromoleculeType\": \"Protein\", \"publicationYear\": 2021, \"countedStructures\": 12270}, {\"macromoleculeType\": \"DNA\", \"publicationYear\": 2021, \"countedStructures\": 784}, {\"macromoleculeType\": \"RNA\", \"publicationYear\": 2021, \"countedStructures\": 531}, {\"macromoleculeType\": \"NA-hybrid\", \"publicationYear\": 2021, \"countedStructures\": 13}, {\"macromoleculeType\": \"Other\", \"publicationYear\": 2021, \"countedStructures\": 0}, {\"macromoleculeType\": \"Protein\", \"publicationYear\": 2022, \"countedStructures\": 14026}, {\"macromoleculeType\": \"DNA\", \"publicationYear\": 2022, \"countedStructures\": 843}, {\"macromoleculeType\": \"RNA\", \"publicationYear\": 2022, \"countedStructures\": 766}, {\"macromoleculeType\": \"NA-hybrid\", \"publicationYear\": 2022, \"countedStructures\": 15}, {\"macromoleculeType\": \"Other\", \"publicationYear\": 2022, \"countedStructures\": 0}, {\"macromoleculeType\": \"Protein\", \"publicationYear\": 2023, \"countedStructures\": 14171}, {\"macromoleculeType\": \"DNA\", \"publicationYear\": 2023, \"countedStructures\": 970}, {\"macromoleculeType\": \"RNA\", \"publicationYear\": 2023, \"countedStructures\": 788}, {\"macromoleculeType\": \"NA-hybrid\", \"publicationYear\": 2023, \"countedStructures\": 27}, {\"macromoleculeType\": \"Other\", \"publicationYear\": 2023, \"countedStructures\": 0}, {\"macromoleculeType\": \"Protein\", \"publicationYear\": 2024, \"countedStructures\": 15108}, {\"macromoleculeType\": \"DNA\", \"publicationYear\": 2024, \"countedStructures\": 983}, {\"macromoleculeType\": \"RNA\", \"publicationYear\": 2024, \"countedStructures\": 937}, {\"macromoleculeType\": \"NA-hybrid\", \"publicationYear\": 2024, \"countedStructures\": 18}, {\"macromoleculeType\": \"Other\", \"publicationYear\": 2024, \"countedStructures\": 0}, {\"macromoleculeType\": \"Protein\", \"publicationYear\": 2025, \"countedStructures\": 3411}, {\"macromoleculeType\": \"DNA\", \"publicationYear\": 2025, \"countedStructures\": 224}, {\"macromoleculeType\": \"RNA\", \"publicationYear\": 2025, \"countedStructures\": 220}, {\"macromoleculeType\": \"NA-hybrid\", \"publicationYear\": 2025, \"countedStructures\": 1}, {\"macromoleculeType\": \"Other\", \"publicationYear\": 2025, \"countedStructures\": 0}]}}, {\"mode\": \"vega-lite\"});\n",
       "</script>"
      ],
      "text/plain": [
       "alt.Chart(...)"
      ]
     },
     "execution_count": 15,
     "metadata": {},
     "output_type": "execute_result"
    }
   ],
   "source": [
    "yearly_type=alt.Chart(data_rcsb_type, title='Number of published structures per year by structure type'\n",
    ").mark_bar(\n",
    "    cornerRadiusTopLeft=3,\n",
    "    cornerRadiusTopRight=3   \n",
    ").encode(\n",
    "    x=alt.X('publicationYear:O').title('Publication year'),\n",
    "    y=alt.Y('countedStructures:Q').title('Number of structures'),\n",
    "    color=alt.Color('macromoleculeType:N').title('Type')\n",
    ")\n",
    "yearly_type"
   ]
  },
  {
   "cell_type": "markdown",
   "id": "44ffc4a6",
   "metadata": {},
   "source": [
    "### 4) Classification of protein structures\n",
    "most of the protein structures are enzymes"
   ]
  },
  {
   "cell_type": "markdown",
   "id": "1f0019d3",
   "metadata": {},
   "source": []
  },
  {
   "cell_type": "markdown",
   "id": "41ad2a9b",
   "metadata": {},
   "source": [
    "## Dataset from kaggle\n",
    "obtained from https://www.kaggle.com/datasets/shahir/protein-data-set"
   ]
  },
  {
   "cell_type": "code",
   "execution_count": null,
   "id": "c9c6a857-a325-431a-9cfc-838c2015e732",
   "metadata": {},
   "outputs": [],
   "source": [
    "# loading data\n",
    "data = pd.read_csv(\"../data/pdb_data_no_dups.csv\")"
   ]
  },
  {
   "cell_type": "code",
   "execution_count": null,
   "id": "d7672bcf",
   "metadata": {},
   "outputs": [],
   "source": [
    "# allows Vega-Altair work with big datasets\n",
    "\n",
    "alt.data_transformers.disable_max_rows()"
   ]
  },
  {
   "cell_type": "code",
   "execution_count": null,
   "id": "0b180eb4-d07b-4055-8a70-0f7f37780558",
   "metadata": {},
   "outputs": [],
   "source": [
    "# making a dataframe of most common datapoints, e.g., 10 most common categories\n",
    "\n",
    "def top_count (df, column, cuttoff):\n",
    "    return (pd.DataFrame(df[column].value_counts().head(cuttoff)).reset_index())\n",
    "\n",
    "top_class = top_count(data, 'classification', 10)\n",
    "\n",
    "# plotting histograms, in this case for 10 most common categories\n",
    "\n",
    "alt.Chart(top_class).mark_bar().encode(\n",
    "    x=alt.X('classification:N').sort('-y'),\n",
    "    y='count:Q',\n",
    ")"
   ]
  },
  {
   "cell_type": "code",
   "execution_count": null,
   "id": "e0bb7d9c-09f4-4818-acb0-bb9faafbb155",
   "metadata": {},
   "outputs": [],
   "source": [
    "top_type = top_count(data, \"macromoleculeType\", 10)\n",
    "\n",
    "alt.Chart(top_type).mark_bar().encode(\n",
    "    x=alt.X('macromoleculeType:N').sort('-y'),\n",
    "    y='count:Q',\n",
    ")"
   ]
  },
  {
   "cell_type": "code",
   "execution_count": null,
   "id": "286b425b-7a4f-4903-9957-d2fe618bf427",
   "metadata": {},
   "outputs": [],
   "source": [
    "# plotting pie charts\n",
    "# add percentage, join small arcs into one as others\n",
    "# maybe only proteins -> see if most are enzymes\n",
    "# choosing multiple categories with shift key\n",
    "\n",
    "selection = alt.selection_point(fields=['classification'], bind='legend')\n",
    "types=list\n",
    "\n",
    "alt.Chart(data).mark_arc().encode(\n",
    "    theta=alt.Theta(\"count()\"),\n",
    "    color=alt.Color(\"classification:N\", sort=alt.EncodingSortField(field=\"macromoleculeType\", op='count', order='descending')),\n",
    "    order=alt.Order('count()')\n",
    "#).transform_filter(\n",
    "    #selection\n",
    ").add_params(\n",
    "    selection\n",
    ")"
   ]
  },
  {
   "cell_type": "code",
   "execution_count": null,
   "id": "0ccb2142",
   "metadata": {},
   "outputs": [],
   "source": [
    "alt.Chart(data).mark_arc().encode(\n",
    "    theta=alt.Theta(\"count()\"),\n",
    "    color=alt.Color(\"macromoleculeType:N\", sort=alt.EncodingSortField(field=\"macromoleculeType\", op='count', order='descending')\n",
    "                    ,title=('Macromolecule type')),\n",
    "    order=alt.Order('count()')\n",
    ")"
   ]
  },
  {
   "cell_type": "code",
   "execution_count": null,
   "id": "a6d032d0",
   "metadata": {},
   "outputs": [],
   "source": [
    "alt.Chart(data).mark_arc().encode(\n",
    "    theta=alt.Theta(\"count()\"),\n",
    "    color=alt.Color(\"experimentalTechnique:N\", sort=alt.EncodingSortField(field=\"experimentalTechnique\", op='count', order='descending')\n",
    "                    ,title=('Experimental technique')),\n",
    "    order=alt.Order('count()')\n",
    ")"
   ]
  },
  {
   "cell_type": "code",
   "execution_count": null,
   "id": "6849b999-ee4b-412c-9ebd-4d166fb88ba0",
   "metadata": {},
   "outputs": [],
   "source": [
    "# number of structures over time, by type, type of methods\n",
    "# includes only structures with known publication year\n",
    "\n",
    "data_year_fix=data.replace({'publicationYear':201}, 2014).dropna(subset=['publicationYear'])\n",
    "\n",
    "alt.Chart(data_year_fix, title='Published structures per year').transform_window(\n",
    "    cumulative_count=\"count()\",\n",
    "    sort=[{\"field\": \"publicationYear\"}],\n",
    ").mark_area().encode(\n",
    "    x=alt.X(\"publicationYear:O\").title('Publication year'),\n",
    "    y=alt.Y(\"cumulative_count:Q\").stack(False).title('Cumulative number')\n",
    ").transform_filter(\n",
    "    alt.datum.publicationYear > 1990\n",
    ")"
   ]
  },
  {
   "cell_type": "code",
   "execution_count": null,
   "id": "a82fc5b3",
   "metadata": {},
   "outputs": [],
   "source": [
    "alt.Chart(data_year_fix, title='Published structures per year').mark_bar(\n",
    "    cornerRadiusTopLeft=3,\n",
    "    cornerRadiusTopRight=3\n",
    ").encode(\n",
    "    x='publicationYear:O',\n",
    "    y='count():Q',\n",
    "    color=alt.Color('experimentalTechnique:N', sort=alt.EncodingSortField(field=\"experimentalTechnique\", op='count', order='descending')),\n",
    "#).transform_filter(\n",
    "#    alt.datum.experimentalTechnique != 'X-RAY DIFFRACTION'\n",
    ").transform_filter(\n",
    "    alt.datum.publicationYear > 1990\n",
    ")"
   ]
  },
  {
   "cell_type": "code",
   "execution_count": null,
   "id": "ac25be47",
   "metadata": {},
   "outputs": [],
   "source": [
    "print(data_year_fix['publicationYear'].sort_values().unique())\n",
    "print(data_year_fix['publicationYear'].value_counts())\n"
   ]
  },
  {
   "cell_type": "code",
   "execution_count": null,
   "id": "03abe42c",
   "metadata": {},
   "outputs": [],
   "source": []
  }
 ],
 "metadata": {
  "kernelspec": {
   "display_name": "base",
   "language": "python",
   "name": "python3"
  },
  "language_info": {
   "codemirror_mode": {
    "name": "ipython",
    "version": 3
   },
   "file_extension": ".py",
   "mimetype": "text/x-python",
   "name": "python",
   "nbconvert_exporter": "python",
   "pygments_lexer": "ipython3",
   "version": "3.12.2"
  }
 },
 "nbformat": 4,
 "nbformat_minor": 5
}
