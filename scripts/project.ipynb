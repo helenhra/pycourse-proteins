{
 "cells": [
  {
   "cell_type": "markdown",
   "id": "907fb9f9-df45-45e8-bde4-3e6520aaa618",
   "metadata": {},
   "source": [
    "# Protein structures"
   ]
  },
  {
   "cell_type": "markdown",
   "id": "19de2791",
   "metadata": {},
   "source": [
    "## Introduction\n",
    "protein structures are stored in RCSB PDB (Research Collaboratory for Structural Bioinformatics Protein Data Bank)\n",
    "\n",
    "there are other structures too, not just proteins"
   ]
  },
  {
   "cell_type": "markdown",
   "id": "9ea09a54-44be-4054-858e-f5f5046a0d49",
   "metadata": {},
   "source": [
    "\n",
    "### Hypotheses\n",
    "\n",
    "1) number of added structures rises exponentaly\n",
    "2) electron microscopy is getting more popular\n",
    "3) there are mostly protein structures in the database\n",
    "4) most of the protein structures are enzymes\n",
    "\n",
    "types of proteins, types of organisms"
   ]
  },
  {
   "cell_type": "code",
   "execution_count": 1,
   "id": "93bba105-44f3-40a3-926b-ce44c7dac21f",
   "metadata": {},
   "outputs": [],
   "source": [
    "# importing modules\n",
    "import pandas as pd # dataframes\n",
    "import altair as alt # plotting, Vega-Altair version 5.5.0 was used\n",
    "import biotite.database.rcsb as rcsb # api for rcsb database\n"
   ]
  },
  {
   "cell_type": "markdown",
   "id": "1fd39718",
   "metadata": {},
   "source": [
    "## API - RCSB PDB"
   ]
  },
  {
   "cell_type": "code",
   "execution_count": null,
   "id": "57bde204",
   "metadata": {},
   "outputs": [],
   "source": [
    "def get_data (years:list, attribute:str, values:list, column_name:str):\n",
    "    \"\"\"\n",
    "    fetches data from rcsb pdb and saves it into a dataframe\n",
    "    searching by e.g, different experimental methods, structure types\n",
    "    possible attributes and values can be found at https://search.rcsb.org/structure-search-attributes.html\n",
    "\n",
    "    Args:\n",
    "        years (list): years to search for\n",
    "        attribute (str): atttibutes to search for\n",
    "        values (list): values to search for\n",
    "        column_name (str): name of column in the dataframe for attribute\n",
    "\n",
    "    Returns:\n",
    "        (pd.DataFrame): numbers of structures per year for selected attribute and values\n",
    "    \"\"\"\n",
    "    counted_structures=[]\n",
    "    counted_years=[]\n",
    "    counted_values=[]\n",
    "    for year in years:\n",
    "        query_year=rcsb.FieldQuery(\"rcsb_accession_info.initial_release_date\", range_closed=(f'{year}-01-01', f'{year}-12-31'))\n",
    "        for value in values:\n",
    "            query_attribute = rcsb.FieldQuery(attribute, exact_match=value)\n",
    "            counted_structures.append(rcsb.count(query_attribute & query_year))\n",
    "            counted_years.append(year)\n",
    "            counted_values.append(value)\n",
    "    return pd.DataFrame(\n",
    "        {column_name: counted_values,\n",
    "         'publicationYear': counted_years,\n",
    "         'countedStructures': counted_structures\n",
    "        })"
   ]
  },
  {
   "cell_type": "markdown",
   "id": "cbb4dac1",
   "metadata": {},
   "source": [
    "### 1) Number of all structures\n",
    "number of added structures rises exponentaly"
   ]
  },
  {
   "cell_type": "code",
   "execution_count": null,
   "id": "365b110a",
   "metadata": {},
   "outputs": [],
   "source": [
    "# number of all structures added before 1990\n",
    "# obtaining data from rcsb pdb through api\n",
    "\n",
    "query_old=rcsb.FieldQuery(\"rcsb_accession_info.initial_release_date\", range_closed=('1960-01-01', '1989-12-31'))\n",
    "all_old=rcsb.count(query_old)"
   ]
  },
  {
   "cell_type": "code",
   "execution_count": null,
   "id": "8cb9fdfa",
   "metadata": {},
   "outputs": [],
   "source": [
    "# number of all added structures from 1990 per year\n",
    "\n",
    "years=list(range(1990,2026))\n",
    "counted_years_all=[]\n",
    "counted_structures_all=[]\n",
    "\n",
    "# obtaining data from rcsb pdb through api\n",
    "\n",
    "for year in years:\n",
    "    query_year_all=rcsb.FieldQuery(\"rcsb_accession_info.initial_release_date\", range_closed=(f'{year}-01-01', f'{year}-12-31'))\n",
    "    counted_structures_all.append(rcsb.count(query_year_all))\n",
    "    counted_years_all.append(year)\n",
    "\n",
    "# saving data to dataframe\n",
    "\n",
    "data_rcsb_all= pd.DataFrame(\n",
    "    {'publicationYear': counted_years_all,\n",
    "     'countedStructures': counted_structures_all\n",
    "    })"
   ]
  },
  {
   "cell_type": "code",
   "execution_count": null,
   "id": "fff5660f",
   "metadata": {},
   "outputs": [],
   "source": [
    "# plotting cumulative number of all added structures\n",
    "\n",
    "cumulative=alt.Chart(data_rcsb_all, title='Cumulative number of published structures in the RCSB PDB'\n",
    ").transform_window(\n",
    "    sort=[{\"field\": \"publicationYear\"}],\n",
    "    summed='sum(countedStructures)'\n",
    ").transform_calculate(\n",
    "    cumulative_count=alt.datum.summed + all_old\n",
    ").mark_line(\n",
    "    color='black'\n",
    ").encode(\n",
    "    x=alt.X(\"publicationYear:O\").title('Publication year'),\n",
    "    y=alt.Y(\"cumulative_count:Q\").stack(False).title('Cumulative number of structures')\n",
    ")"
   ]
  },
  {
   "cell_type": "code",
   "execution_count": null,
   "id": "276ae6d6",
   "metadata": {},
   "outputs": [],
   "source": [
    "# showing plot\n",
    "cumulative"
   ]
  },
  {
   "cell_type": "markdown",
   "id": "847e5be1",
   "metadata": {},
   "source": [
    "### 2) Experimental metods\n",
    "electron microscopy is getting more popular"
   ]
  },
  {
   "cell_type": "code",
   "execution_count": null,
   "id": "8c602815",
   "metadata": {},
   "outputs": [],
   "source": [
    "# number of added structures obtained by selected methods from 1990 per year\n",
    "# runs for about a minute\n",
    "\n",
    "methods=[\"X-RAY DIFFRACTION\", \"SOLUTION NMR\", \"ELECTRON MICROSCOPY\"]\n",
    "data_rcsb_method=get_data(years, 'experimentalTechnique', methods, \"exptl.method\")"
   ]
  },
  {
   "cell_type": "code",
   "execution_count": null,
   "id": "cbdf2072",
   "metadata": {},
   "outputs": [],
   "source": [
    "yearly_method=alt.Chart(data_rcsb_method, title='Number of published structures per year by experimental method'\n",
    ").mark_bar(\n",
    "    cornerRadiusTopLeft=3,\n",
    "    cornerRadiusTopRight=3   \n",
    ").encode(\n",
    "    x=alt.X('publicationYear:O').title('Publication year'),\n",
    "    y=alt.Y('countedStructures:Q').title('Number of structures'),\n",
    "    color=alt.Color('experimentalTechnique:N').title('Method')\n",
    ")"
   ]
  },
  {
   "cell_type": "code",
   "execution_count": null,
   "id": "d168d5c8",
   "metadata": {},
   "outputs": [],
   "source": [
    "# showing plot\n",
    "yearly_method"
   ]
  },
  {
   "cell_type": "code",
   "execution_count": null,
   "id": "1f960674",
   "metadata": {},
   "outputs": [],
   "source": [
    "# combining plots\n",
    "alt.layer(cumulative, yearly_method)"
   ]
  },
  {
   "cell_type": "markdown",
   "id": "a3ce7b39",
   "metadata": {},
   "source": [
    "### 3) Types of structures\n",
    "there are mostly protein structures in the database"
   ]
  },
  {
   "cell_type": "code",
   "execution_count": null,
   "id": "e9ed0d18",
   "metadata": {},
   "outputs": [],
   "source": [
    "# number of added structures obtained by structure type from 1990 per year\n",
    "# runs for about a minute\n",
    "\n",
    "types=[\"Protein\", \"DNA\", \"RNA\", \"NA-hybrid\", \"Other\"]\n",
    "data_rcsb_type=get_data (years, \"entity_poly.rcsb_entity_polymer_type\", types, 'macromoleculeType')"
   ]
  },
  {
   "cell_type": "code",
   "execution_count": null,
   "id": "d5282ea3",
   "metadata": {},
   "outputs": [],
   "source": [
    "yearly_type=alt.Chart(data_rcsb_type, title='Number of published structures per year by structure type'\n",
    ").mark_bar(\n",
    "    cornerRadiusTopLeft=3,\n",
    "    cornerRadiusTopRight=3   \n",
    ").encode(\n",
    "    x=alt.X('publicationYear:O').title('Publication year'),\n",
    "    y=alt.Y('countedStructures:Q').title('Number of structures'),\n",
    "    color=alt.Color('macromoleculeType:N').title('Type')\n",
    ")\n",
    "yearly_type"
   ]
  },
  {
   "cell_type": "markdown",
   "id": "44ffc4a6",
   "metadata": {},
   "source": [
    "### 4) Classification of protein structures\n",
    "most of the protein structures are enzymes"
   ]
  },
  {
   "cell_type": "markdown",
   "id": "1f0019d3",
   "metadata": {},
   "source": []
  },
  {
   "cell_type": "markdown",
   "id": "41ad2a9b",
   "metadata": {},
   "source": [
    "## Dataset from kaggle\n",
    "obtained from https://www.kaggle.com/datasets/shahir/protein-data-set"
   ]
  },
  {
   "cell_type": "code",
   "execution_count": null,
   "id": "c9c6a857-a325-431a-9cfc-838c2015e732",
   "metadata": {},
   "outputs": [],
   "source": [
    "# loading data\n",
    "data = pd.read_csv(\"../data/pdb_data_no_dups.csv\")"
   ]
  },
  {
   "cell_type": "code",
   "execution_count": null,
   "id": "d7672bcf",
   "metadata": {},
   "outputs": [],
   "source": [
    "# allows Vega-Altair work with big datasets\n",
    "\n",
    "alt.data_transformers.disable_max_rows()"
   ]
  },
  {
   "cell_type": "code",
   "execution_count": null,
   "id": "0b180eb4-d07b-4055-8a70-0f7f37780558",
   "metadata": {},
   "outputs": [],
   "source": [
    "# making a dataframe of most common datapoints, e.g., 10 most common categories\n",
    "\n",
    "def top_count (df, column, cuttoff):\n",
    "    return (pd.DataFrame(df[column].value_counts().head(cuttoff)).reset_index())\n",
    "\n",
    "top_class = top_count(data, 'classification', 10)\n",
    "\n",
    "# plotting histograms, in this case for 10 most common categories\n",
    "\n",
    "alt.Chart(top_class).mark_bar().encode(\n",
    "    x=alt.X('classification:N').sort('-y'),\n",
    "    y='count:Q',\n",
    ")"
   ]
  },
  {
   "cell_type": "code",
   "execution_count": null,
   "id": "e0bb7d9c-09f4-4818-acb0-bb9faafbb155",
   "metadata": {},
   "outputs": [],
   "source": [
    "top_type = top_count(data, \"macromoleculeType\", 10)\n",
    "\n",
    "alt.Chart(top_type).mark_bar().encode(\n",
    "    x=alt.X('macromoleculeType:N').sort('-y'),\n",
    "    y='count:Q',\n",
    ")"
   ]
  },
  {
   "cell_type": "code",
   "execution_count": null,
   "id": "286b425b-7a4f-4903-9957-d2fe618bf427",
   "metadata": {},
   "outputs": [],
   "source": [
    "# plotting pie charts\n",
    "# add percentage, join small arcs into one as others\n",
    "# maybe only proteins -> see if most are enzymes\n",
    "# choosing multiple categories with shift key\n",
    "\n",
    "selection = alt.selection_point(fields=['classification'], bind='legend')\n",
    "types=list\n",
    "\n",
    "alt.Chart(data).mark_arc().encode(\n",
    "    theta=alt.Theta(\"count()\"),\n",
    "    color=alt.Color(\"classification:N\", sort=alt.EncodingSortField(field=\"macromoleculeType\", op='count', order='descending')),\n",
    "    order=alt.Order('count()')\n",
    "#).transform_filter(\n",
    "    #selection\n",
    ").add_params(\n",
    "    selection\n",
    ")"
   ]
  },
  {
   "cell_type": "code",
   "execution_count": null,
   "id": "0ccb2142",
   "metadata": {},
   "outputs": [],
   "source": [
    "alt.Chart(data).mark_arc().encode(\n",
    "    theta=alt.Theta(\"count()\"),\n",
    "    color=alt.Color(\"macromoleculeType:N\", sort=alt.EncodingSortField(field=\"macromoleculeType\", op='count', order='descending')\n",
    "                    ,title=('Macromolecule type')),\n",
    "    order=alt.Order('count()')\n",
    ")"
   ]
  },
  {
   "cell_type": "code",
   "execution_count": null,
   "id": "a6d032d0",
   "metadata": {},
   "outputs": [],
   "source": [
    "alt.Chart(data).mark_arc().encode(\n",
    "    theta=alt.Theta(\"count()\"),\n",
    "    color=alt.Color(\"experimentalTechnique:N\", sort=alt.EncodingSortField(field=\"experimentalTechnique\", op='count', order='descending')\n",
    "                    ,title=('Experimental technique')),\n",
    "    order=alt.Order('count()')\n",
    ")"
   ]
  },
  {
   "cell_type": "code",
   "execution_count": null,
   "id": "6849b999-ee4b-412c-9ebd-4d166fb88ba0",
   "metadata": {},
   "outputs": [],
   "source": [
    "# number of structures over time, by type, type of methods\n",
    "# includes only structures with known publication year\n",
    "\n",
    "data_year_fix=data.replace({'publicationYear':201}, 2014).dropna(subset=['publicationYear'])\n",
    "\n",
    "alt.Chart(data_year_fix, title='Published structures per year').transform_window(\n",
    "    cumulative_count=\"count()\",\n",
    "    sort=[{\"field\": \"publicationYear\"}],\n",
    ").mark_area().encode(\n",
    "    x=alt.X(\"publicationYear:O\").title('Publication year'),\n",
    "    y=alt.Y(\"cumulative_count:Q\").stack(False).title('Cumulative number')\n",
    ").transform_filter(\n",
    "    alt.datum.publicationYear > 1990\n",
    ")"
   ]
  },
  {
   "cell_type": "code",
   "execution_count": null,
   "id": "a82fc5b3",
   "metadata": {},
   "outputs": [],
   "source": [
    "alt.Chart(data_year_fix, title='Published structures per year').mark_bar(\n",
    "    cornerRadiusTopLeft=3,\n",
    "    cornerRadiusTopRight=3\n",
    ").encode(\n",
    "    x='publicationYear:O',\n",
    "    y='count():Q',\n",
    "    color=alt.Color('experimentalTechnique:N', sort=alt.EncodingSortField(field=\"experimentalTechnique\", op='count', order='descending')),\n",
    "#).transform_filter(\n",
    "#    alt.datum.experimentalTechnique != 'X-RAY DIFFRACTION'\n",
    ").transform_filter(\n",
    "    alt.datum.publicationYear > 1990\n",
    ")"
   ]
  },
  {
   "cell_type": "code",
   "execution_count": null,
   "id": "ac25be47",
   "metadata": {},
   "outputs": [],
   "source": [
    "print(data_year_fix['publicationYear'].sort_values().unique())\n",
    "print(data_year_fix['publicationYear'].value_counts())\n"
   ]
  },
  {
   "cell_type": "code",
   "execution_count": null,
   "id": "03abe42c",
   "metadata": {},
   "outputs": [],
   "source": []
  }
 ],
 "metadata": {
  "kernelspec": {
   "display_name": "base",
   "language": "python",
   "name": "python3"
  },
  "language_info": {
   "codemirror_mode": {
    "name": "ipython",
    "version": 3
   },
   "file_extension": ".py",
   "mimetype": "text/x-python",
   "name": "python",
   "nbconvert_exporter": "python",
   "pygments_lexer": "ipython3",
   "version": "3.12.2"
  }
 },
 "nbformat": 4,
 "nbformat_minor": 5
}
