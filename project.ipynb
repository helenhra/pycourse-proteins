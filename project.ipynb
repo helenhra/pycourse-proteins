{
 "cells": [
  {
   "cell_type": "markdown",
   "id": "907fb9f9-df45-45e8-bde4-3e6520aaa618",
   "metadata": {},
   "source": [
    "# Protein structures in RCSB PDB\n",
    "The project can be found at https://github.com/helenhra/pycourse-proteins."
   ]
  },
  {
   "cell_type": "markdown",
   "id": "19de2791",
   "metadata": {},
   "source": [
    "## Introduction\n",
    "[RCSB PDB](https://www.rcsb.org) (Research Collaboratory for Structural Bioinformatics Protein Data Bank)  is a database widely used by scientists in many fields such as biochemistry. It stores structures of biomolecules, mostly proteins, that have been obtained by experimental methods.\n",
    "\n",
    "This project looks into what kind of structures are stored in the database, how many and how has the database content changed in the past.\n",
    "\n",
    "This notebook is divided into two parts. The first part uses API to obtain data from RCSB PDB and in the second part, dataset from kaggle is used instead. I worked with the kaggle dataset first to orient myself in the data and to try out some visualisation before working with the API.\n",
    "\n",
    "Following hypotheses are tested primarly in the first part, while the second part shows an alternative for only some of them."
   ]
  },
  {
   "cell_type": "markdown",
   "id": "9ea09a54-44be-4054-858e-f5f5046a0d49",
   "metadata": {},
   "source": [
    "\n",
    "### Hypotheses\n",
    "\n",
    "a) the number of added structures rises exponentialy\n",
    "\n",
    "b) electron microscopy is getting more popular\n",
    "\n",
    "c) there are mostly protein structures in the database\n",
    "\n",
    "d) most of the protein structures are enzymes, mostly hydrolases\n",
    "\n",
    "e) most of the host organisms are bacteria but the sources vary"
   ]
  },
  {
   "cell_type": "code",
   "execution_count": null,
   "id": "93bba105-44f3-40a3-926b-ce44c7dac21f",
   "metadata": {},
   "outputs": [],
   "source": [
    "# importing modules\n",
    "\n",
    "import pandas as pd # dataframes\n",
    "import altair as alt # plotting\n",
    "import biotite.database.rcsb as rcsb # api for rcsb database"
   ]
  },
  {
   "cell_type": "markdown",
   "id": "1fd39718",
   "metadata": {},
   "source": [
    "## 1) RCSB PDB - API\n",
    "Some information about the structures might be missing in the database such as the publication year or source organism. Therefore, such structures might not be included in the following charts.\n",
    "\n",
    "Also, when using the API, it depends on what attribute is searched for - some structures might have information only for some attributes."
   ]
  },
  {
   "cell_type": "markdown",
   "id": "cbb4dac1",
   "metadata": {},
   "source": [
    "### a) Number of all structures\n",
    "hypothesis: the number of added structures rises exponentaly"
   ]
  },
  {
   "cell_type": "code",
   "execution_count": null,
   "id": "365b110a",
   "metadata": {},
   "outputs": [],
   "source": [
    "# number of all structures added before 1990\n",
    "# obtaining data from rcsb pdb through api\n",
    "\n",
    "query_old=rcsb.FieldQuery('rcsb_accession_info.initial_release_date', range_closed=('1960-01-01', '1989-12-31'))\n",
    "all_old=rcsb.count(query_old)\n",
    "all_old"
   ]
  },
  {
   "cell_type": "code",
   "execution_count": null,
   "id": "8cb9fdfa",
   "metadata": {},
   "outputs": [],
   "source": [
    "# number of all added structures from 1990 per year\n",
    "\n",
    "years=list(range(1990,2026))\n",
    "counted_years_all=[]\n",
    "counted_structures_all=[]\n",
    "\n",
    "# obtaining data from rcsb pdb through api\n",
    "\n",
    "for year in years:\n",
    "    query_year_all=rcsb.FieldQuery('rcsb_accession_info.initial_release_date', range_closed=(f'{year}-01-01', f'{year}-12-31'))\n",
    "    counted_structures_all.append(rcsb.count(query_year_all))\n",
    "    counted_years_all.append(year)\n",
    "\n",
    "# saving data to dataframe\n",
    "\n",
    "data_rcsb_all= pd.DataFrame(\n",
    "    {'publicationYear': counted_years_all,\n",
    "     'countedStructures': counted_structures_all\n",
    "    })"
   ]
  },
  {
   "cell_type": "code",
   "execution_count": null,
   "id": "1917652b",
   "metadata": {},
   "outputs": [],
   "source": [
    "# plotting a bar chart of number of added structures per year\n",
    "\n",
    "yearly_all=alt.Chart(data_rcsb_all\n",
    ").mark_bar(\n",
    "    cornerRadiusTopLeft=3, # making rounded edges of the bars\n",
    "    cornerRadiusTopRight=3,\n",
    "    color='lightseagreen'  # setting colour of the bars  \n",
    ").encode(\n",
    "    x=alt.X('publicationYear:O'),\n",
    "    y=alt.Y('countedStructures:Q')\n",
    ")"
   ]
  },
  {
   "cell_type": "code",
   "execution_count": null,
   "id": "fff5660f",
   "metadata": {},
   "outputs": [],
   "source": [
    "# plotting a line chart of cumulative number of all added structures\n",
    "\n",
    "cumulative=alt.Chart(data_rcsb_all, title='Cumulative number of published structures in the RCSB PDB' # setting title of the graph\n",
    ").transform_window(\n",
    "    sort=[{'field': 'publicationYear'}], # sorting data by publication year\n",
    "    summed='sum(countedStructures)' # summing number of structures\n",
    ").transform_calculate(\n",
    "    cumulative_count=alt.datum.summed + all_old # adding older structures (before 1990) to the summed number of structures\n",
    ").mark_line(\n",
    "    color='crimson' # setting colour of the line plot\n",
    ").encode(\n",
    "    x=alt.X('publicationYear:O').title('Publication year'), # setting titles of the axes\n",
    "    y=alt.Y('cumulative_count:Q').stack(False).title('Cumulative number of structures')\n",
    ")"
   ]
  },
  {
   "cell_type": "code",
   "execution_count": null,
   "id": "276ae6d6",
   "metadata": {},
   "outputs": [],
   "source": [
    "# showing the two charts combined\n",
    "\n",
    "(cumulative + yearly_all).configure(background='oldlace') # setting background colour of the graph"
   ]
  },
  {
   "cell_type": "markdown",
   "id": "23495926",
   "metadata": {},
   "source": [
    "Because there were not many structures added before 1990 (365 in total), the analysis is focused on the time period from 1990, but includes the older structures.\n",
    "\n",
    "Combination of a line and a bar chart was used to show the cumulative number of structures (line) and the number of structures that were added to the database each year (bars).\n",
    "\n",
    "It can be concluded from the graph that there is an exponential trend in the addition of new structures."
   ]
  },
  {
   "cell_type": "markdown",
   "id": "847e5be1",
   "metadata": {},
   "source": [
    "### b) Experimental methods\n",
    "hypothesis: electron microscopy is getting more popular"
   ]
  },
  {
   "cell_type": "code",
   "execution_count": null,
   "id": "1fc033c4",
   "metadata": {},
   "outputs": [],
   "source": [
    "# defining function to obtain data from rcsb pdb through api\n",
    "\n",
    "def get_data_yearly (years:list, attribute:str, values:list, column_name:str):\n",
    "    '''\n",
    "    fetches data from rcsb pdb and saves it into a dataframe\n",
    "    searching by e.g, different experimental methods, structure types\n",
    "    searches for number of structures per year\n",
    "    possible attributes and values can be found at https://search.rcsb.org/structure-search-attributes.html\n",
    "    only attributes with exact_match operator can be used with this function\n",
    "\n",
    "    Args:\n",
    "        years (list): years to search for\n",
    "        attribute (str): atttibutes to search for\n",
    "        values (list): values to search for\n",
    "        column_name (str): name of column in the dataframe for attribute\n",
    "\n",
    "    Returns:\n",
    "        (pd.DataFrame): numbers of structures per year for selected attribute and values\n",
    "    '''\n",
    "    \n",
    "    counted_structures=[]\n",
    "    counted_years=[]\n",
    "    counted_values=[]\n",
    "    for year in years:\n",
    "        query_year=rcsb.FieldQuery('rcsb_accession_info.initial_release_date', range_closed=(f'{year}-01-01', f'{year}-12-31'))\n",
    "        for value in values:\n",
    "            query_attribute = rcsb.FieldQuery(attribute, exact_match=value)\n",
    "            counted_structures.append(rcsb.count(query_attribute & query_year))\n",
    "            counted_years.append(year)\n",
    "            counted_values.append(value)\n",
    "    return pd.DataFrame(\n",
    "        {column_name: counted_values,\n",
    "         'publicationYear': counted_years,\n",
    "         'countedStructures': counted_structures\n",
    "        })"
   ]
  },
  {
   "cell_type": "code",
   "execution_count": null,
   "id": "8c602815",
   "metadata": {},
   "outputs": [],
   "source": [
    "# fetching data from rcsb pdb\n",
    "# number of added structures obtained by selected methods from 1990 per year\n",
    "# runs for about a minute\n",
    "\n",
    "methods=['X-RAY DIFFRACTION', 'SOLUTION NMR', 'ELECTRON MICROSCOPY']\n",
    "data_rcsb_method=get_data_yearly(years, 'exptl.method',  methods, 'experimentalTechnique')"
   ]
  },
  {
   "cell_type": "code",
   "execution_count": null,
   "id": "cbdf2072",
   "metadata": {},
   "outputs": [],
   "source": [
    "# plotting a bar chart of number of added structures obtained by selected methods per year\n",
    "\n",
    "yearly_method=alt.Chart(data_rcsb_method, title='Number of published structures per year by experimental method'\n",
    ").mark_bar(\n",
    "    cornerRadiusTopLeft=3,\n",
    "    cornerRadiusTopRight=3   \n",
    ").encode(\n",
    "    x=alt.X('publicationYear:O').title('Publication year'),\n",
    "    y=alt.Y('countedStructures:Q').title('Number of structures'),\n",
    "    color=alt.Color('experimentalTechnique:N').title('Experimental method').scale(scheme='set2') # setting colour scheme\n",
    ")\n",
    "yearly_method.configure(background='oldlace')"
   ]
  },
  {
   "cell_type": "markdown",
   "id": "1509f9fe",
   "metadata": {},
   "source": [
    "Three mostly used experimental methods were chosen to search for in the database. A bar chart was used to show how many structures were obtained by these methods each year.\n",
    "\n",
    "X-ray difraction used to be the mostly used method, however electron microscopy gained popularity in the past decade."
   ]
  },
  {
   "cell_type": "markdown",
   "id": "a3ce7b39",
   "metadata": {},
   "source": [
    "### c) Types of structures\n",
    "hypothesis: there are mostly protein structures in the database"
   ]
  },
  {
   "cell_type": "code",
   "execution_count": null,
   "id": "e9ed0d18",
   "metadata": {},
   "outputs": [],
   "source": [
    "# fetching data from rcsb pdb\n",
    "# number of added structures by structure type from 1990 per year\n",
    "# runs for about a minute\n",
    "\n",
    "types=['Protein', 'DNA', 'RNA', 'NA-hybrid', 'Other']\n",
    "data_rcsb_type=get_data_yearly (years, 'entity_poly.rcsb_entity_polymer_type', types, 'macromoleculeType')"
   ]
  },
  {
   "cell_type": "code",
   "execution_count": null,
   "id": "d5282ea3",
   "metadata": {},
   "outputs": [],
   "source": [
    "# plotting a bar chart of number of added structures by structure type per year\n",
    "\n",
    "yearly_type=alt.Chart(data_rcsb_type, title='Number of published structures per year by structure type'\n",
    ").mark_bar(\n",
    "    cornerRadiusTopLeft=3,\n",
    "    cornerRadiusTopRight=3   \n",
    ").encode(\n",
    "    x=alt.X('publicationYear:O').title('Publication year'),\n",
    "    y=alt.Y('countedStructures:Q').title('Number of structures'),\n",
    "    color=alt.Color('macromoleculeType:N', sort=alt.EncodingSortField(field='macromoleculeType', op='count', order='descending')).title('Structure type').scale(scheme='set2'),\n",
    "    order=alt.Order('countedStructures', sort='descending') # sorting legend and stacked bars by the number of structures\n",
    ")\n",
    "yearly_type.configure(background='oldlace')"
   ]
  },
  {
   "cell_type": "markdown",
   "id": "a28f1e32",
   "metadata": {},
   "source": [
    "A bar graph was used to show how many structures by their type were added every year. A pie chart could have been used instead, but in this case we can still clearly see that there are mostly protein structures in the database, while also getting the yearly overview. In the past few years, there were more DNA and RNA structures added every year than used to be common."
   ]
  },
  {
   "cell_type": "markdown",
   "id": "44ffc4a6",
   "metadata": {},
   "source": [
    "### d) Classification of protein structures\n",
    "hypothesis: most of the protein structures are enzymes, mostly hydrolases"
   ]
  },
  {
   "cell_type": "code",
   "execution_count": null,
   "id": "90fb6820",
   "metadata": {},
   "outputs": [],
   "source": [
    "# defining function to obtain data from rcsb pdb through api\n",
    "\n",
    "def get_data_all (attribute:str, values:list, column_name:str):\n",
    "    '''\n",
    "    fetches data from rcsb pdb and saves it into a dataframe\n",
    "    searching by e.g, different experimental methods, structure types\n",
    "    searches for number of structures in total\n",
    "    possible attributes and values can be found at https://search.rcsb.org/structure-search-attributes.html\n",
    "    only attributes with exact_match operator can be used with this function\n",
    "\n",
    "    Args:\n",
    "        attribute (str): atttibutes to search for\n",
    "        values (list): values to search for\n",
    "        column_name (str): name of column in the dataframe for attribute\n",
    "\n",
    "    Returns:\n",
    "        (pd.DataFrame): numbers of structures for selected attribute and values\n",
    "    '''\n",
    "    \n",
    "    counted_structures=[]\n",
    "    counted_values=[]\n",
    "    for value in values:\n",
    "        query_attribute = rcsb.FieldQuery(attribute, exact_match=value)\n",
    "        counted_structures.append(rcsb.count(query_attribute))\n",
    "        counted_values.append(value)\n",
    "    return pd.DataFrame(\n",
    "        {column_name: counted_values,\n",
    "         'countedStructures': counted_structures\n",
    "        })"
   ]
  },
  {
   "cell_type": "code",
   "execution_count": null,
   "id": "a7690734",
   "metadata": {},
   "outputs": [],
   "source": [
    "# number of all protein structures\n",
    "# obtaining data from rcsb pdb through api\n",
    "\n",
    "query_protein=rcsb.FieldQuery('entity_poly.rcsb_entity_polymer_type', exact_match='Protein')\n",
    "all_protein=rcsb.count(query_protein)\n",
    "all_protein"
   ]
  },
  {
   "cell_type": "code",
   "execution_count": null,
   "id": "1f0019d3",
   "metadata": {},
   "outputs": [],
   "source": [
    "# fetching data from rcsb pdb\n",
    "# number of added enzyme structures by enzyme class (search by enzyme class number)\n",
    "\n",
    "enzymes=['1','2','3','4','5','6','7']\n",
    "data_rcsb_enzyme=get_data_all ('rcsb_polymer_entity.rcsb_ec_lineage.id', enzymes, 'enzymeClass')"
   ]
  },
  {
   "cell_type": "code",
   "execution_count": null,
   "id": "268a6af8",
   "metadata": {},
   "outputs": [],
   "source": [
    "# adding a collumn with enzyme class name into the dataframe\n",
    "\n",
    "data_rcsb_enzyme.insert(0, 'className', ['Oxidoreductase', 'Transferase', 'Hydrolase', 'Lyase', 'Isomerase', 'Ligase', 'Translocase'])"
   ]
  },
  {
   "cell_type": "code",
   "execution_count": null,
   "id": "7b0fadca",
   "metadata": {},
   "outputs": [],
   "source": [
    "# calculating the number of all other proteins that do not belong to any of the enzyme class and adding the result into the dataframe\n",
    "\n",
    "others = all_protein-sum(data_rcsb_enzyme['countedStructures'])\n",
    "data_rcsb_enzyme.loc[7] = ['Other proteins', None, others]"
   ]
  },
  {
   "cell_type": "code",
   "execution_count": null,
   "id": "1e8a7bb9",
   "metadata": {},
   "outputs": [],
   "source": [
    "# plotting a pie chart of number of enzymes by enzyme class and number of other proteins\n",
    "\n",
    "all_enzyme=alt.Chart(data_rcsb_enzyme, title='Number of published structures by enzyme class'\n",
    ").mark_arc().encode(\n",
    "    theta=alt.Theta('countedStructures').stack(True),\n",
    "    color=alt.Color('className:N', sort=None ,title=('Enzyme class')).scale(scheme='set2'),\n",
    "    order=alt.Order('countedStructures')\n",
    ")\n",
    "\n",
    "chart_enzyme=all_enzyme.mark_arc(outerRadius=120)\n",
    "text_enzyme=all_enzyme.mark_text(radius=140, size=10, angle=315).encode(text='countedStructures:N') # setting the labels with number of structures\n",
    "\n",
    "(chart_enzyme+text_enzyme).configure(background='oldlace') # showing the chart together with the labels"
   ]
  },
  {
   "cell_type": "markdown",
   "id": "ab4df330",
   "metadata": {},
   "source": [
    "To find number of enzyme structures, the database was searched for the 7 enzyme classes and the number of other proteins was taken simply as the rest of the structures that were not assigned to any of the classes. Here, pie chart was used for better clarity. The number of other protein structures is smaller than the sum of structures in the 7 enzyme classes, therefore most protein structures in the database. Most enzymes are hydrolases."
   ]
  },
  {
   "cell_type": "markdown",
   "id": "d6bbf232",
   "metadata": {},
   "source": [
    "### e) Organisms\n",
    "hypothesis: most of the host organisms are bacteria but the sources vary"
   ]
  },
  {
   "cell_type": "code",
   "execution_count": null,
   "id": "8f0c1318",
   "metadata": {},
   "outputs": [],
   "source": [
    "# fetching data from rcsb pdb\n",
    "# number of added structures by selected source and host organism\n",
    "\n",
    "organisms=['Escherichia coli', 'Saccharomyces cerevisiae', 'Archaea', 'Bacteria', 'Eukarya', 'Fungi', 'Embryophyta', 'Mammalia', 'Homo sapiens']\n",
    "data_rcsb_source=get_data_all ('rcsb_entity_source_organism.taxonomy_lineage.name', organisms, 'organism')\n",
    "data_rcsb_host=get_data_all ('rcsb_entity_host_organism.taxonomy_lineage.name', organisms, 'organism')"
   ]
  },
  {
   "cell_type": "code",
   "execution_count": null,
   "id": "e0d69cba",
   "metadata": {},
   "outputs": [],
   "source": [
    "# merging the data into one dataframe, Vega-Altair works well with long data format\n",
    "\n",
    "data_rcsb_source['type']='source'\n",
    "data_rcsb_host['type']='host'\n",
    "data_rcsb_organism=pd.concat([data_rcsb_source, data_rcsb_host])"
   ]
  },
  {
   "cell_type": "code",
   "execution_count": null,
   "id": "aa7f8cf1",
   "metadata": {},
   "outputs": [],
   "source": [
    "# plotting a bar chart of number of structures by selected source and host organism\n",
    "\n",
    "all_organism=alt.Chart(data_rcsb_organism, title=alt.TitleParams('Number of published structures by source and host organisms', anchor='middle'), # centering title\n",
    ").mark_bar(\n",
    "    cornerRadiusTopLeft=3,\n",
    "    cornerRadiusTopRight=3   \n",
    ").encode(\n",
    "    x=alt.X('type:N', title='', axis=alt.Axis(labels=False, ticks=False), sort='descending'), # removing labels and ticks for x axis\n",
    "    y=alt.Y('countedStructures:Q').title('Number of structures'),\n",
    "    color=alt.Color('type:N', title='', sort='descending').scale(scheme='set2'),\n",
    "    column=alt.Column('organism:N', title='', header=alt.Header(labelOrient='bottom', labelAlign='center',labelLimit=60), sort=['organism']) # adjusting labels\n",
    ")\n",
    "\n",
    "all_organism.configure(background='oldlace')"
   ]
  },
  {
   "cell_type": "markdown",
   "id": "8d355253",
   "metadata": {},
   "source": [
    "The database was searched for several source and host species, groups and the three domains (Archaea, Bacteria, Eukarya). Grouped bar chart was used to compare the source and host organisms. Most biomolecules were produced in bacteria and the number of structures from E. coli almost matches the number for bacteria, therefore the host organism was mostli E. coli. However, the source organisms were mostly from Eukarya, big part from mammals and humans."
   ]
  },
  {
   "cell_type": "markdown",
   "id": "41ad2a9b",
   "metadata": {},
   "source": [
    "## 2) Dataset from kaggle\n",
    "This dataset contains part of the data in RCSB PDB and was retrieved from [kaggle](https://www.kaggle.com/datasets/shahir/protein-data-set)."
   ]
  },
  {
   "cell_type": "code",
   "execution_count": null,
   "id": "c9c6a857-a325-431a-9cfc-838c2015e732",
   "metadata": {},
   "outputs": [],
   "source": [
    "# loading data\n",
    "\n",
    "data = pd.read_csv('pdb_data_no_dups.csv')"
   ]
  },
  {
   "cell_type": "code",
   "execution_count": null,
   "id": "d7672bcf",
   "metadata": {},
   "outputs": [],
   "source": [
    "# allows Vega-Altair work with big datasets\n",
    "\n",
    "alt.data_transformers.disable_max_rows()"
   ]
  },
  {
   "cell_type": "code",
   "execution_count": null,
   "id": "01739d9c",
   "metadata": {},
   "outputs": [],
   "source": [
    "# fixing typo in one data point, droping data with unknown publication year\n",
    "\n",
    "data_year_fix=data.replace({'publicationYear':201}, 2014).dropna(subset=['publicationYear'])\n",
    "\n",
    "# plotting a bar chart of number of added structures by experimental method from 1990 per year\n",
    "\n",
    "alt.Chart(data_year_fix, title='Number of published structures per year by experimental method').mark_bar(\n",
    "    cornerRadiusTopLeft=3,\n",
    "    cornerRadiusTopRight=3\n",
    ").encode(\n",
    "    x=alt.X('publicationYear:O', title='Publication year'),\n",
    "    y=alt.Y('count():Q', title='Number of structures'), # counting the structures and ploting it as y axis\n",
    "    color=alt.Color('experimentalTechnique:N', sort=alt.EncodingSortField(field='experimentalTechnique', op='count', order='descending')\n",
    "                    ,title='Experimental method').scale(scheme='set2')\n",
    ").transform_filter(\n",
    "    alt.datum.publicationYear > 1990 # using data from after 1990\n",
    ").configure(background='oldlace')"
   ]
  },
  {
   "cell_type": "code",
   "execution_count": null,
   "id": "4c40ecb7",
   "metadata": {},
   "outputs": [],
   "source": [
    "# plotting a pie chart of number of added structures by structure type\n",
    "\n",
    "kaggle_type=alt.Chart(data).mark_arc().encode(\n",
    "    theta=alt.Theta('count()'),\n",
    "    color=alt.Color('macromoleculeType:N', sort=alt.EncodingSortField(field='macromoleculeType', op='count', order='descending')\n",
    "                    ,title=('Structure type')).scale(scheme='set2'),\n",
    "    order=alt.Order('count()')\n",
    ")"
   ]
  },
  {
   "cell_type": "code",
   "execution_count": null,
   "id": "286b425b-7a4f-4903-9957-d2fe618bf427",
   "metadata": {},
   "outputs": [],
   "source": [
    "# plotting a pie chart of number of added structures by structure classification\n",
    "\n",
    "kaggle_class=alt.Chart(data).mark_arc().encode(\n",
    "    theta=alt.Theta('count()'),\n",
    "    color=alt.Color('classification:N', sort=alt.EncodingSortField(field='macromoleculeType', op='count', order='descending')\n",
    "        ,title=('Classification')).scale(scheme='set2'),\n",
    "    order=alt.Order('count()')\n",
    ")"
   ]
  },
  {
   "cell_type": "code",
   "execution_count": null,
   "id": "a1917a31",
   "metadata": {},
   "outputs": [],
   "source": [
    "# showing the two charts next to each other\n",
    "\n",
    "alt.hconcat(kaggle_type, kaggle_class).resolve_scale(color='independent'\n",
    "    ).properties(title='Number of published structures by structure type and classification').configure(background='oldlace')"
   ]
  },
  {
   "cell_type": "markdown",
   "id": "8a63abb9",
   "metadata": {},
   "source": [
    "The dataset from kaggle contained only data till 2018 and was incoplete compared to the data in RCSB PDB. There was, for instance, no information about source and host organism. Because tere were no data from after 2018, the plot above focusing on experimental methods does not show how electron microscopy became popular recently. However, the kaggle dataset allowed me to get some idea how the data in RCSB PDB look like, e.g., what structure types and classifications are included.\n",
    "\n",
    "Using the API is better to obtain more complete and up to date data and to fetch only the data needed for an analysis, while using a dataset containing part of the data is useful for testing the code."
   ]
  }
 ],
 "metadata": {
  "kernelspec": {
   "display_name": "pycourse-proteins",
   "language": "python",
   "name": "python3"
  },
  "language_info": {
   "codemirror_mode": {
    "name": "ipython",
    "version": 3
   },
   "file_extension": ".py",
   "mimetype": "text/x-python",
   "name": "python",
   "nbconvert_exporter": "python",
   "pygments_lexer": "ipython3",
   "version": "3.12.2"
  }
 },
 "nbformat": 4,
 "nbformat_minor": 5
}
