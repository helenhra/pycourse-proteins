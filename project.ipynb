{
 "cells": [
  {
   "cell_type": "markdown",
   "id": "907fb9f9-df45-45e8-bde4-3e6520aaa618",
   "metadata": {},
   "source": [
    "# Protein structures in RCSB PDB"
   ]
  },
  {
   "cell_type": "markdown",
   "id": "19de2791",
   "metadata": {},
   "source": [
    "## Introduction\n",
    "RCSB PDB (Research Collaboratory for Structural Bioinformatics Protein Data Bank) is a database widely used by scientists in many fields such as biochemistry. It stores structures of biomolecules, mostly proteins, that have been obtained by experimental methods."
   ]
  },
  {
   "cell_type": "markdown",
   "id": "9ea09a54-44be-4054-858e-f5f5046a0d49",
   "metadata": {},
   "source": [
    "\n",
    "### Hypotheses\n",
    "\n",
    "1) number of added structures rises exponentaly\n",
    "2) electron microscopy is getting more popular\n",
    "3) there are mostly protein structures in the database\n",
    "4) most of the protein structures are enzymes, mostly hydrolases\n",
    "5) most of the molecules are produced in bacteria but come from different sources"
   ]
  },
  {
   "cell_type": "code",
   "execution_count": null,
   "id": "93bba105-44f3-40a3-926b-ce44c7dac21f",
   "metadata": {},
   "outputs": [],
   "source": [
    "# importing modules\n",
    "import pandas as pd # dataframes\n",
    "import altair as alt # plotting, Vega-Altair version 5.5.0 was used\n",
    "import biotite.database.rcsb as rcsb # api for rcsb database"
   ]
  },
  {
   "cell_type": "markdown",
   "id": "1fd39718",
   "metadata": {},
   "source": [
    "## API - RCSB PDB"
   ]
  },
  {
   "cell_type": "markdown",
   "id": "cbb4dac1",
   "metadata": {},
   "source": [
    "### 1) Number of all structures\n",
    "number of added structures rises exponentaly"
   ]
  },
  {
   "cell_type": "code",
   "execution_count": null,
   "id": "365b110a",
   "metadata": {},
   "outputs": [],
   "source": [
    "# number of all structures added before 1990\n",
    "# obtaining data from rcsb pdb through api\n",
    "\n",
    "query_old=rcsb.FieldQuery(\"rcsb_accession_info.initial_release_date\", range_closed=('1960-01-01', '1989-12-31'))\n",
    "all_old=rcsb.count(query_old)\n",
    "all_old"
   ]
  },
  {
   "cell_type": "code",
   "execution_count": null,
   "id": "8cb9fdfa",
   "metadata": {},
   "outputs": [],
   "source": [
    "# number of all added structures from 1990 per year\n",
    "\n",
    "years=list(range(1990,2026))\n",
    "counted_years_all=[]\n",
    "counted_structures_all=[]\n",
    "\n",
    "# obtaining data from rcsb pdb through api\n",
    "\n",
    "for year in years:\n",
    "    query_year_all=rcsb.FieldQuery(\"rcsb_accession_info.initial_release_date\", range_closed=(f'{year}-01-01', f'{year}-12-31'))\n",
    "    counted_structures_all.append(rcsb.count(query_year_all))\n",
    "    counted_years_all.append(year)\n",
    "\n",
    "# saving data to dataframe\n",
    "\n",
    "data_rcsb_all= pd.DataFrame(\n",
    "    {'publicationYear': counted_years_all,\n",
    "     'countedStructures': counted_structures_all\n",
    "    })"
   ]
  },
  {
   "cell_type": "code",
   "execution_count": null,
   "id": "1917652b",
   "metadata": {},
   "outputs": [],
   "source": [
    "# plotting a bar chart of number of added structures per year\n",
    "\n",
    "yearly_all=alt.Chart(data_rcsb_all\n",
    ").mark_bar(\n",
    "    cornerRadiusTopLeft=3,\n",
    "    cornerRadiusTopRight=3,\n",
    "    color='lightseagreen'   \n",
    ").encode(\n",
    "    x=alt.X('publicationYear:O'),\n",
    "    y=alt.Y('countedStructures:Q')\n",
    ")"
   ]
  },
  {
   "cell_type": "code",
   "execution_count": null,
   "id": "fff5660f",
   "metadata": {},
   "outputs": [],
   "source": [
    "# plotting a line chart of cumulative number of all added structures\n",
    "\n",
    "cumulative=alt.Chart(data_rcsb_all, title='Cumulative number of published structures in the RCSB PDB'\n",
    ").transform_window(\n",
    "    sort=[{\"field\": \"publicationYear\"}],\n",
    "    summed='sum(countedStructures)'\n",
    ").transform_calculate(\n",
    "    cumulative_count=alt.datum.summed + all_old\n",
    ").mark_line(\n",
    "    color='crimson'\n",
    ").encode(\n",
    "    x=alt.X(\"publicationYear:O\").title('Publication year'),\n",
    "    y=alt.Y(\"cumulative_count:Q\").stack(False).title('Cumulative number of structures')\n",
    ")"
   ]
  },
  {
   "cell_type": "code",
   "execution_count": null,
   "id": "276ae6d6",
   "metadata": {},
   "outputs": [],
   "source": [
    "# showing the two charts combined\n",
    "\n",
    "(cumulative + yearly_all).configure(background='oldlace')"
   ]
  },
  {
   "cell_type": "markdown",
   "id": "847e5be1",
   "metadata": {},
   "source": [
    "### 2) Experimental metods\n",
    "electron microscopy is getting more popular"
   ]
  },
  {
   "cell_type": "code",
   "execution_count": null,
   "id": "1fc033c4",
   "metadata": {},
   "outputs": [],
   "source": [
    "# defining function to obtain data from rcsb pdb through api\n",
    "\n",
    "def get_data_yearly (years:list, attribute:str, values:list, column_name:str):\n",
    "    \"\"\"\n",
    "    fetches data from rcsb pdb and saves it into a dataframe\n",
    "    searching by e.g, different experimental methods, structure types\n",
    "    searches for number of structures per year\n",
    "    possible attributes and values can be found at https://search.rcsb.org/structure-search-attributes.html\n",
    "\n",
    "    Args:\n",
    "        years (list): years to search for\n",
    "        attribute (str): atttibutes to search for\n",
    "        values (list): values to search for\n",
    "        column_name (str): name of column in the dataframe for attribute\n",
    "\n",
    "    Returns:\n",
    "        (pd.DataFrame): numbers of structures per year for selected attribute and values\n",
    "    \"\"\"\n",
    "    \n",
    "    counted_structures=[]\n",
    "    counted_years=[]\n",
    "    counted_values=[]\n",
    "    for year in years:\n",
    "        query_year=rcsb.FieldQuery(\"rcsb_accession_info.initial_release_date\", range_closed=(f'{year}-01-01', f'{year}-12-31'))\n",
    "        for value in values:\n",
    "            query_attribute = rcsb.FieldQuery(attribute, exact_match=value)\n",
    "            counted_structures.append(rcsb.count(query_attribute & query_year))\n",
    "            counted_years.append(year)\n",
    "            counted_values.append(value)\n",
    "    return pd.DataFrame(\n",
    "        {column_name: counted_values,\n",
    "         'publicationYear': counted_years,\n",
    "         'countedStructures': counted_structures\n",
    "        })"
   ]
  },
  {
   "cell_type": "code",
   "execution_count": null,
   "id": "8c602815",
   "metadata": {},
   "outputs": [],
   "source": [
    "# fetching data from rcsb pdb\n",
    "# number of added structures obtained by selected methods from 1990 per year\n",
    "# runs for about a minute\n",
    "\n",
    "methods=[\"X-RAY DIFFRACTION\", \"SOLUTION NMR\", \"ELECTRON MICROSCOPY\"]\n",
    "data_rcsb_method=get_data_yearly(years, \"exptl.method\",  methods, 'experimentalTechnique')"
   ]
  },
  {
   "cell_type": "code",
   "execution_count": null,
   "id": "cbdf2072",
   "metadata": {},
   "outputs": [],
   "source": [
    "# plotting a bar chart of number of added structures obtained by selected methods per year\n",
    "\n",
    "yearly_method=alt.Chart(data_rcsb_method, title='Number of published structures per year by experimental method'\n",
    ").mark_bar(\n",
    "    cornerRadiusTopLeft=3,\n",
    "    cornerRadiusTopRight=3   \n",
    ").encode(\n",
    "    x=alt.X('publicationYear:O').title('Publication year'),\n",
    "    y=alt.Y('countedStructures:Q').title('Number of structures'),\n",
    "    color=alt.Color('experimentalTechnique:N').title('Method').scale(scheme='set2')\n",
    ")\n",
    "yearly_method.configure(background='oldlace')"
   ]
  },
  {
   "cell_type": "markdown",
   "id": "a3ce7b39",
   "metadata": {},
   "source": [
    "### 3) Types of structures\n",
    "there are mostly protein structures in the database"
   ]
  },
  {
   "cell_type": "code",
   "execution_count": null,
   "id": "e9ed0d18",
   "metadata": {},
   "outputs": [],
   "source": [
    "# fetching data from rcsb pdb\n",
    "# number of added structures by structure type from 1990 per year\n",
    "# runs for about a minute\n",
    "\n",
    "types=[\"Protein\", \"DNA\", \"RNA\", \"NA-hybrid\", \"Other\"]\n",
    "data_rcsb_type=get_data_yearly (years, \"entity_poly.rcsb_entity_polymer_type\", types, 'macromoleculeType')"
   ]
  },
  {
   "cell_type": "code",
   "execution_count": null,
   "id": "d5282ea3",
   "metadata": {},
   "outputs": [],
   "source": [
    "# plotting a bar chart of number of added structures by structure type per year\n",
    "\n",
    "yearly_type=alt.Chart(data_rcsb_type, title='Number of published structures per year by structure type'\n",
    ").mark_bar(\n",
    "    cornerRadiusTopLeft=3,\n",
    "    cornerRadiusTopRight=3   \n",
    ").encode(\n",
    "    x=alt.X('publicationYear:O').title('Publication year'),\n",
    "    y=alt.Y('countedStructures:Q').title('Number of structures'),\n",
    "    color=alt.Color('macromoleculeType:N', sort=alt.EncodingSortField(field=\"macromoleculeType\", op='count', order='descending')).title('Structure type').scale(scheme='set2'),\n",
    "    order=alt.Order('countedStructures', sort='descending')\n",
    ")\n",
    "yearly_type.configure(background='oldlace')"
   ]
  },
  {
   "cell_type": "markdown",
   "id": "44ffc4a6",
   "metadata": {},
   "source": [
    "### 4) Classification of protein structures\n",
    "most of the protein structures are enzymes, mostly hydrolases"
   ]
  },
  {
   "cell_type": "code",
   "execution_count": null,
   "id": "90fb6820",
   "metadata": {},
   "outputs": [],
   "source": [
    "# defining function to obtain data from rcsb pdb through api\n",
    "\n",
    "def get_data_all (attribute:str, values:list, column_name:str):\n",
    "    \"\"\"\n",
    "    fetches data from rcsb pdb and saves it into a dataframe\n",
    "    searching by e.g, different experimental methods, structure types\n",
    "    searches for number of structures in total\n",
    "    possible attributes and values can be found at https://search.rcsb.org/structure-search-attributes.html\n",
    "\n",
    "    Args:\n",
    "        attribute (str): atttibutes to search for\n",
    "        values (list): values to search for\n",
    "        column_name (str): name of column in the dataframe for attribute\n",
    "\n",
    "    Returns:\n",
    "        (pd.DataFrame): numbers of structures for selected attribute and values\n",
    "    \"\"\"\n",
    "    \n",
    "    counted_structures=[]\n",
    "    counted_values=[]\n",
    "    for value in values:\n",
    "        query_attribute = rcsb.FieldQuery(attribute, exact_match=value)\n",
    "        counted_structures.append(rcsb.count(query_attribute))\n",
    "        counted_values.append(value)\n",
    "    return pd.DataFrame(\n",
    "        {column_name: counted_values,\n",
    "         'countedStructures': counted_structures\n",
    "        })"
   ]
  },
  {
   "cell_type": "code",
   "execution_count": null,
   "id": "a7690734",
   "metadata": {},
   "outputs": [],
   "source": [
    "# number of all protein structures\n",
    "# obtaining data from rcsb pdb through api\n",
    "\n",
    "query_protein=rcsb.FieldQuery(\"entity_poly.rcsb_entity_polymer_type\", exact_match='Protein')\n",
    "all_protein=rcsb.count(query_protein)\n",
    "all_protein"
   ]
  },
  {
   "cell_type": "code",
   "execution_count": null,
   "id": "1f0019d3",
   "metadata": {},
   "outputs": [],
   "source": [
    "# fetching data from rcsb pdb\n",
    "# number of added enzyme structures by enzyme class (search by enzyme class number)\n",
    "\n",
    "enzymes=['1','2','3','4','5','6','7']\n",
    "data_rcsb_enzyme=get_data_all (\"rcsb_polymer_entity.rcsb_ec_lineage.id\", enzymes, 'enzymeClass')"
   ]
  },
  {
   "cell_type": "code",
   "execution_count": null,
   "id": "268a6af8",
   "metadata": {},
   "outputs": [],
   "source": [
    "# adding a collumn with enzyme class name into the dataframe\n",
    "\n",
    "data_rcsb_enzyme.insert(0, \"className\", ['Oxidoreductase', 'Transferase', 'Hydrolase', 'Lyase', 'Isomerase', 'Ligase', 'Translocase'])"
   ]
  },
  {
   "cell_type": "code",
   "execution_count": null,
   "id": "7b0fadca",
   "metadata": {},
   "outputs": [],
   "source": [
    "# calculating the number of all other proteins that do not belong to any of the enzyme class and adding the result into the dataframe\n",
    "\n",
    "others = all_protein-sum(data_rcsb_enzyme['countedStructures'])\n",
    "data_rcsb_enzyme.loc[7] = ['Other proteins', None, others]"
   ]
  },
  {
   "cell_type": "code",
   "execution_count": null,
   "id": "1e8a7bb9",
   "metadata": {},
   "outputs": [],
   "source": [
    "# plotting a pie chart of number of enzymes by enzyme class and number of other proteins\n",
    "\n",
    "all_enzyme=alt.Chart(data_rcsb_enzyme, title='Number of published structures by enzyme class'\n",
    ").mark_arc().encode(\n",
    "    theta=alt.Theta(\"countedStructures\").stack(True),\n",
    "    color=alt.Color(\"className:N\", sort=None ,title=('Enzyme class')).scale(scheme='set2'),\n",
    "    order=alt.Order('countedStructures')\n",
    ")\n",
    "\n",
    "chart_enzyme=all_enzyme.mark_arc(outerRadius=120)\n",
    "text_enzyme=all_enzyme.mark_text(radius=140, size=10, angle=315).encode(text=\"countedStructures:N\")\n",
    "\n",
    "(chart_enzyme+text_enzyme).configure(background='oldlace')"
   ]
  },
  {
   "cell_type": "markdown",
   "id": "d6bbf232",
   "metadata": {},
   "source": [
    "### 5) Organisms\n",
    "most of the molecules are produced in bacteria but come from different sources"
   ]
  },
  {
   "cell_type": "code",
   "execution_count": null,
   "id": "8f0c1318",
   "metadata": {},
   "outputs": [],
   "source": [
    "# fetching data from rcsb pdb\n",
    "# number of added structures by selected source and host organism\n",
    "\n",
    "organisms=['Escherichia coli', 'Saccharomyces cerevisiae', 'Archaea', 'Bacteria', 'Eukaryota', 'Fungi', 'Embryophyta', 'Mammalia', 'Homo sapiens']\n",
    "data_rcsb_source=get_data_all (\"rcsb_entity_source_organism.taxonomy_lineage.name\", organisms, 'organism')\n",
    "data_rcsb_host=get_data_all (\"rcsb_entity_host_organism.taxonomy_lineage.name\", organisms, 'organism')"
   ]
  },
  {
   "cell_type": "code",
   "execution_count": null,
   "id": "e0d69cba",
   "metadata": {},
   "outputs": [],
   "source": [
    "# merging the data into one dataframe, Vega-Altair works well with long data format\n",
    "\n",
    "data_rcsb_source['type']='source'\n",
    "data_rcsb_host['type']='host'\n",
    "data_rcsb_organism=pd.concat([data_rcsb_source, data_rcsb_host])"
   ]
  },
  {
   "cell_type": "code",
   "execution_count": null,
   "id": "aa7f8cf1",
   "metadata": {},
   "outputs": [],
   "source": [
    "# plotting a bar chart of number of structures by selected source and host organism\n",
    "\n",
    "all_organism=alt.Chart(data_rcsb_organism, title=alt.TitleParams('Number of published structures by source and host organisms', anchor='middle'),\n",
    ").mark_bar(\n",
    "    cornerRadiusTopLeft=3,\n",
    "    cornerRadiusTopRight=3   \n",
    ").encode(\n",
    "    x=alt.X('type:N', title='', axis=alt.Axis(labels=False, ticks=False), sort='descending'),\n",
    "    y=alt.Y('countedStructures:Q').title('Number of structures'),\n",
    "    color=alt.Color('type:N', title='', sort='descending').scale(scheme='set2'),\n",
    "    column=alt.Column('organism:N', title='', header=alt.Header(labelOrient='bottom', labelAlign='center',labelLimit=60), sort=['organism'])\n",
    ")\n",
    "\n",
    "all_organism.configure(background='oldlace')"
   ]
  },
  {
   "cell_type": "markdown",
   "id": "41ad2a9b",
   "metadata": {},
   "source": [
    "## Dataset from kaggle\n",
    "obtained from https://www.kaggle.com/datasets/shahir/protein-data-set"
   ]
  },
  {
   "cell_type": "code",
   "execution_count": null,
   "id": "c9c6a857-a325-431a-9cfc-838c2015e732",
   "metadata": {},
   "outputs": [],
   "source": [
    "# loading data\n",
    "\n",
    "data = pd.read_csv(\"pdb_data_no_dups.csv\")"
   ]
  },
  {
   "cell_type": "code",
   "execution_count": null,
   "id": "d7672bcf",
   "metadata": {},
   "outputs": [],
   "source": [
    "# allows Vega-Altair work with big datasets\n",
    "\n",
    "alt.data_transformers.disable_max_rows()"
   ]
  },
  {
   "cell_type": "code",
   "execution_count": null,
   "id": "01739d9c",
   "metadata": {},
   "outputs": [],
   "source": [
    "# fixing typo in one data point, droping data with unknown publication year\n",
    "\n",
    "data_year_fix=data.replace({'publicationYear':201}, 2014).dropna(subset=['publicationYear'])\n",
    "\n",
    "# plotting a bar chart of number of added structures by experimental method from 1990 per year\n",
    "\n",
    "alt.Chart(data_year_fix, title='Number of published structures per year by experimental method').mark_bar(\n",
    "    cornerRadiusTopLeft=3,\n",
    "    cornerRadiusTopRight=3\n",
    ").encode(\n",
    "    x=alt.X('publicationYear:O', title='Publication year'),\n",
    "    y=alt.Y('count():Q', title='Number of structures'),\n",
    "    color=alt.Color('experimentalTechnique:N', sort=alt.EncodingSortField(field=\"experimentalTechnique\", op='count', order='descending')\n",
    "                    ,title='Experimental method').scale(scheme='set2')\n",
    ").transform_filter(\n",
    "    alt.datum.publicationYear > 1990\n",
    ").configure(background='oldlace')"
   ]
  },
  {
   "cell_type": "code",
   "execution_count": null,
   "id": "4c40ecb7",
   "metadata": {},
   "outputs": [],
   "source": [
    "# plotting a pie chart of number of added structures by structure type\n",
    "\n",
    "kaggle_type=alt.Chart(data).mark_arc().encode(\n",
    "    theta=alt.Theta(\"count()\"),\n",
    "    color=alt.Color(\"macromoleculeType:N\", sort=alt.EncodingSortField(field=\"macromoleculeType\", op='count', order='descending')\n",
    "                    ,title=('Macromolecule type')).scale(scheme='set2'),\n",
    "    order=alt.Order('count()')\n",
    ")"
   ]
  },
  {
   "cell_type": "code",
   "execution_count": null,
   "id": "286b425b-7a4f-4903-9957-d2fe618bf427",
   "metadata": {},
   "outputs": [],
   "source": [
    "# plotting a pie chart of number of added structures by structure classification\n",
    "\n",
    "kaggle_class=alt.Chart(data).mark_arc().encode(\n",
    "    theta=alt.Theta(\"count()\"),\n",
    "    color=alt.Color(\"classification:N\", sort=alt.EncodingSortField(field=\"macromoleculeType\", op='count', order='descending')\n",
    "                                                                   ,title=('Classification')).scale(scheme='set2'),\n",
    "    order=alt.Order('count()')\n",
    ")"
   ]
  },
  {
   "cell_type": "code",
   "execution_count": null,
   "id": "a1917a31",
   "metadata": {},
   "outputs": [],
   "source": [
    "# showing the two charts next to each other\n",
    "\n",
    "alt.hconcat(kaggle_type, kaggle_class).resolve_scale(color='independent').properties(title='Number of published structures by structure type and classification').configure(background='oldlace')"
   ]
  },
  {
   "cell_type": "code",
   "execution_count": null,
   "id": "5f4fe6b7",
   "metadata": {},
   "outputs": [],
   "source": []
  }
 ],
 "metadata": {
  "kernelspec": {
   "display_name": "pycourse-proteins",
   "language": "python",
   "name": "python3"
  },
  "language_info": {
   "codemirror_mode": {
    "name": "ipython",
    "version": 3
   },
   "file_extension": ".py",
   "mimetype": "text/x-python",
   "name": "python",
   "nbconvert_exporter": "python",
   "pygments_lexer": "ipython3",
   "version": "3.12.2"
  }
 },
 "nbformat": 4,
 "nbformat_minor": 5
}
